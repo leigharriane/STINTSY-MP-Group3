{
 "cells": [
  {
   "cell_type": "markdown",
   "metadata": {
    "id": "ZjSpY7t9EarL"
   },
   "source": [
    "# STINTSY Machine Project"
   ]
  },
  {
   "cell_type": "markdown",
   "metadata": {
    "id": "GkqYEPv8ElBq"
   },
   "source": [
    "**SS1 - Group 3**\n",
    "1. BERENGUER, Beatrice A.\n",
    "2. BUENDIA, Leigh Arriane S.\n",
    "3. ENRIQUEZ, Manolo L."
   ]
  },
  {
   "cell_type": "markdown",
   "metadata": {
    "id": "wmCk7kiZHPES"
   },
   "source": [
    "## **Description of the Task**\n",
    "\n",
    "With the dataset selected, the project aims to create a machine learning model that will accurately classify whether a smoke detector device should be triggered or not. "
   ]
  },
  {
   "cell_type": "markdown",
   "metadata": {
    "id": "aEV3cpmwHcIB"
   },
   "source": [
    "**<h2> List of Requirements**"
   ]
  },
  {
   "cell_type": "code",
   "execution_count": 1,
   "metadata": {
    "id": "TjAm42Lf-5xC",
    "scrolled": true
   },
   "outputs": [],
   "source": [
    "import pandas as pd\n",
    "import numpy as np\n",
    "import seaborn as sns\n",
    "import matplotlib.pyplot as plt\n",
    "from sklearn.metrics import classification_report\n",
    "\n",
    "from sklearn.model_selection import train_test_split\n",
    "from sklearn.preprocessing import MinMaxScaler\n",
    "from imblearn.over_sampling import SMOTE\n",
    "\n",
    "from sklearn.linear_model import SGDClassifier\n",
    "from sklearn.neighbors import KNeighborsClassifier\n",
    "from sklearn.naive_bayes import GaussianNB"
   ]
  },
  {
   "cell_type": "markdown",
   "metadata": {
    "id": "3ur8mCqrHlIi"
   },
   "source": [
    "## **Description of the Dataset**\n",
    "\n",
    "The dataset selected is the **Smoke Detection Dataset** from Kaggle. The link to the dataset can be found here: https://www.kaggle.com/datasets/deepcontractor/smoke-detection-dataset\n",
    "\n",
    "Collection of training data is performed with the help of IOT devices since the goal is to develop an AI based smoke detector device. Many different environments and fire sources have to be sampled to ensure a good dataset for training. A short list of different scenarios which are captured:\n",
    "\n",
    "* Normal indoor\n",
    "* Normal outdoor\n",
    "* Indoor wood fire, firefighter training area\n",
    "* Indoor gas fire, firefighter training area\n",
    "* Outdoor wood, coal, and gas grill\n",
    "* Outdoor high humidity etc.\n",
    "\n",
    "The dataset is able to capture these scenarios through the features it contains. The following is a full list of the features and their descriptions:\n",
    "\n",
    "* `UTC` - Timestamp UTC seconds\n",
    "* `Temperature` - Air Temperature\n",
    "* `Humidity` - Air Humidity\n",
    "* `TVOC` - Total Volatile Organic Compounds; measured in parts per billion\n",
    "* `eCo2` - co2 equivalent concentration; calculated from different values like TVCO\n",
    "* `Raw H2` - raw molecular hydrogen; not compensated (Bias, temperature, etc.)\n",
    "* `Raw Ethanol` - raw ethanol gas\n",
    "* `Pressure` - Air pressure\n",
    "* `PM1.0` - Particulate matter size < 1.0 µm (PM1.0). 1.0 µm < 2.5 µm (PM2.5)\n",
    "* `PM2.5` - Particulate matter size < 1.0 µm (PM1.0). 1.0 µm < 2.5 µm (PM2.5)\n",
    "* `NC0.5` - Number concentration of particulate matter. This differs from PM because NC gives the actual number of particles in the air. The raw NC is also classified by the particle size: < 0.5 µm (NC0.5); 0.5 µm < 1.0 µm (NC1.0); 1.0 µm < 2.5 µm (NC2.5);\n",
    "* `NC1.0` - Number concentration of particulate matter. This differs from PM because NC gives the actual number of particles in the air. The raw NC is also classified by the particle size: < 0.5 µm (NC0.5); 0.5 µm < 1.0 µm (NC1.0); 1.0 µm < 2.5 µm (NC2.5);\n",
    "* `NC2.5` - Number concentration of particulate matter. This differs from PM because NC gives the actual number of particles in the air. The raw NC is also classified by the particle size: < 0.5 µm (NC0.5); 0.5 µm < 1.0 µm (NC1.0); 1.0 µm < 2.5 µm (NC2.5);\n",
    "* `CNT` - Sample counter \n",
    "* `Fire Alarm` - Ground truth is \"1\" if a fire is there"
   ]
  },
  {
   "cell_type": "markdown",
   "metadata": {},
   "source": [
    "First, let us read the dataset and display the first few rows in the file."
   ]
  },
  {
   "cell_type": "code",
   "execution_count": 2,
   "metadata": {
    "colab": {
     "base_uri": "https://localhost:8080/",
     "height": 288
    },
    "id": "MN_mVYy--z2E",
    "outputId": "e0374194-202b-4a99-9cf2-7ea5a3c305ef",
    "scrolled": true
   },
   "outputs": [
    {
     "data": {
      "text/html": [
       "<div>\n",
       "<style scoped>\n",
       "    .dataframe tbody tr th:only-of-type {\n",
       "        vertical-align: middle;\n",
       "    }\n",
       "\n",
       "    .dataframe tbody tr th {\n",
       "        vertical-align: top;\n",
       "    }\n",
       "\n",
       "    .dataframe thead th {\n",
       "        text-align: right;\n",
       "    }\n",
       "</style>\n",
       "<table border=\"1\" class=\"dataframe\">\n",
       "  <thead>\n",
       "    <tr style=\"text-align: right;\">\n",
       "      <th></th>\n",
       "      <th>Unnamed: 0</th>\n",
       "      <th>UTC</th>\n",
       "      <th>Temperature[C]</th>\n",
       "      <th>Humidity[%]</th>\n",
       "      <th>TVOC[ppb]</th>\n",
       "      <th>eCO2[ppm]</th>\n",
       "      <th>Raw H2</th>\n",
       "      <th>Raw Ethanol</th>\n",
       "      <th>Pressure[hPa]</th>\n",
       "      <th>PM1.0</th>\n",
       "      <th>PM2.5</th>\n",
       "      <th>NC0.5</th>\n",
       "      <th>NC1.0</th>\n",
       "      <th>NC2.5</th>\n",
       "      <th>CNT</th>\n",
       "      <th>Fire Alarm</th>\n",
       "    </tr>\n",
       "  </thead>\n",
       "  <tbody>\n",
       "    <tr>\n",
       "      <th>0</th>\n",
       "      <td>0</td>\n",
       "      <td>1654733331</td>\n",
       "      <td>20.000</td>\n",
       "      <td>57.36</td>\n",
       "      <td>0</td>\n",
       "      <td>400</td>\n",
       "      <td>12306</td>\n",
       "      <td>18520</td>\n",
       "      <td>939.735</td>\n",
       "      <td>0.0</td>\n",
       "      <td>0.0</td>\n",
       "      <td>0.0</td>\n",
       "      <td>0.0</td>\n",
       "      <td>0.0</td>\n",
       "      <td>0</td>\n",
       "      <td>0</td>\n",
       "    </tr>\n",
       "    <tr>\n",
       "      <th>1</th>\n",
       "      <td>1</td>\n",
       "      <td>1654733332</td>\n",
       "      <td>20.015</td>\n",
       "      <td>56.67</td>\n",
       "      <td>0</td>\n",
       "      <td>400</td>\n",
       "      <td>12345</td>\n",
       "      <td>18651</td>\n",
       "      <td>939.744</td>\n",
       "      <td>0.0</td>\n",
       "      <td>0.0</td>\n",
       "      <td>0.0</td>\n",
       "      <td>0.0</td>\n",
       "      <td>0.0</td>\n",
       "      <td>1</td>\n",
       "      <td>0</td>\n",
       "    </tr>\n",
       "    <tr>\n",
       "      <th>2</th>\n",
       "      <td>2</td>\n",
       "      <td>1654733333</td>\n",
       "      <td>20.029</td>\n",
       "      <td>55.96</td>\n",
       "      <td>0</td>\n",
       "      <td>400</td>\n",
       "      <td>12374</td>\n",
       "      <td>18764</td>\n",
       "      <td>939.738</td>\n",
       "      <td>0.0</td>\n",
       "      <td>0.0</td>\n",
       "      <td>0.0</td>\n",
       "      <td>0.0</td>\n",
       "      <td>0.0</td>\n",
       "      <td>2</td>\n",
       "      <td>0</td>\n",
       "    </tr>\n",
       "    <tr>\n",
       "      <th>3</th>\n",
       "      <td>3</td>\n",
       "      <td>1654733334</td>\n",
       "      <td>20.044</td>\n",
       "      <td>55.28</td>\n",
       "      <td>0</td>\n",
       "      <td>400</td>\n",
       "      <td>12390</td>\n",
       "      <td>18849</td>\n",
       "      <td>939.736</td>\n",
       "      <td>0.0</td>\n",
       "      <td>0.0</td>\n",
       "      <td>0.0</td>\n",
       "      <td>0.0</td>\n",
       "      <td>0.0</td>\n",
       "      <td>3</td>\n",
       "      <td>0</td>\n",
       "    </tr>\n",
       "    <tr>\n",
       "      <th>4</th>\n",
       "      <td>4</td>\n",
       "      <td>1654733335</td>\n",
       "      <td>20.059</td>\n",
       "      <td>54.69</td>\n",
       "      <td>0</td>\n",
       "      <td>400</td>\n",
       "      <td>12403</td>\n",
       "      <td>18921</td>\n",
       "      <td>939.744</td>\n",
       "      <td>0.0</td>\n",
       "      <td>0.0</td>\n",
       "      <td>0.0</td>\n",
       "      <td>0.0</td>\n",
       "      <td>0.0</td>\n",
       "      <td>4</td>\n",
       "      <td>0</td>\n",
       "    </tr>\n",
       "  </tbody>\n",
       "</table>\n",
       "</div>"
      ],
      "text/plain": [
       "   Unnamed: 0         UTC  Temperature[C]  Humidity[%]  TVOC[ppb]  eCO2[ppm]  \\\n",
       "0           0  1654733331          20.000        57.36          0        400   \n",
       "1           1  1654733332          20.015        56.67          0        400   \n",
       "2           2  1654733333          20.029        55.96          0        400   \n",
       "3           3  1654733334          20.044        55.28          0        400   \n",
       "4           4  1654733335          20.059        54.69          0        400   \n",
       "\n",
       "   Raw H2  Raw Ethanol  Pressure[hPa]  PM1.0  PM2.5  NC0.5  NC1.0  NC2.5  CNT  \\\n",
       "0   12306        18520        939.735    0.0    0.0    0.0    0.0    0.0    0   \n",
       "1   12345        18651        939.744    0.0    0.0    0.0    0.0    0.0    1   \n",
       "2   12374        18764        939.738    0.0    0.0    0.0    0.0    0.0    2   \n",
       "3   12390        18849        939.736    0.0    0.0    0.0    0.0    0.0    3   \n",
       "4   12403        18921        939.744    0.0    0.0    0.0    0.0    0.0    4   \n",
       "\n",
       "   Fire Alarm  \n",
       "0           0  \n",
       "1           0  \n",
       "2           0  \n",
       "3           0  \n",
       "4           0  "
      ]
     },
     "execution_count": 2,
     "metadata": {},
     "output_type": "execute_result"
    }
   ],
   "source": [
    "data=pd.read_csv('smoke_detection_iot.csv')\n",
    "data.head()"
   ]
  },
  {
   "cell_type": "markdown",
   "metadata": {},
   "source": [
    "Let us see how many our data is."
   ]
  },
  {
   "cell_type": "code",
   "execution_count": 3,
   "metadata": {
    "colab": {
     "base_uri": "https://localhost:8080/"
    },
    "id": "vuzcEqKvB4tZ",
    "outputId": "871f6827-1f79-4a1b-85a7-d9d9b8e29516"
   },
   "outputs": [
    {
     "data": {
      "text/plain": [
       "(62630, 16)"
      ]
     },
     "execution_count": 3,
     "metadata": {},
     "output_type": "execute_result"
    }
   ],
   "source": [
    "data.shape"
   ]
  },
  {
   "cell_type": "markdown",
   "metadata": {},
   "source": [
    "The data type of each feature in the dataset is seen below. Here we can see that all features are of data type `int64` or `float64`, categorizing this dataset to contain continuous values."
   ]
  },
  {
   "cell_type": "code",
   "execution_count": 4,
   "metadata": {
    "colab": {
     "base_uri": "https://localhost:8080/"
    },
    "id": "5Isao9bvBDVq",
    "outputId": "e618fb83-50f5-4e89-e590-4ac28eb50103"
   },
   "outputs": [
    {
     "name": "stdout",
     "output_type": "stream",
     "text": [
      "<class 'pandas.core.frame.DataFrame'>\n",
      "RangeIndex: 62630 entries, 0 to 62629\n",
      "Data columns (total 16 columns):\n",
      " #   Column          Non-Null Count  Dtype  \n",
      "---  ------          --------------  -----  \n",
      " 0   Unnamed: 0      62630 non-null  int64  \n",
      " 1   UTC             62630 non-null  int64  \n",
      " 2   Temperature[C]  62630 non-null  float64\n",
      " 3   Humidity[%]     62630 non-null  float64\n",
      " 4   TVOC[ppb]       62630 non-null  int64  \n",
      " 5   eCO2[ppm]       62630 non-null  int64  \n",
      " 6   Raw H2          62630 non-null  int64  \n",
      " 7   Raw Ethanol     62630 non-null  int64  \n",
      " 8   Pressure[hPa]   62630 non-null  float64\n",
      " 9   PM1.0           62630 non-null  float64\n",
      " 10  PM2.5           62630 non-null  float64\n",
      " 11  NC0.5           62630 non-null  float64\n",
      " 12  NC1.0           62630 non-null  float64\n",
      " 13  NC2.5           62630 non-null  float64\n",
      " 14  CNT             62630 non-null  int64  \n",
      " 15  Fire Alarm      62630 non-null  int64  \n",
      "dtypes: float64(8), int64(8)\n",
      "memory usage: 7.6 MB\n"
     ]
    }
   ],
   "source": [
    "data.info()"
   ]
  },
  {
   "cell_type": "markdown",
   "metadata": {},
   "source": [
    "Per feature, the number of unique values are found below."
   ]
  },
  {
   "cell_type": "code",
   "execution_count": 5,
   "metadata": {
    "colab": {
     "base_uri": "https://localhost:8080/"
    },
    "id": "MrIZ3cvVBshP",
    "outputId": "86fdba8c-3a97-4e0d-f849-a35fddcfb3ba"
   },
   "outputs": [
    {
     "data": {
      "text/plain": [
       "Unnamed: 0        62630\n",
       "UTC               62630\n",
       "Temperature[C]    21672\n",
       "Humidity[%]        3890\n",
       "TVOC[ppb]          1966\n",
       "eCO2[ppm]          1713\n",
       "Raw H2             1830\n",
       "Raw Ethanol        2659\n",
       "Pressure[hPa]      2213\n",
       "PM1.0              1337\n",
       "PM2.5              1351\n",
       "NC0.5              3093\n",
       "NC1.0              4113\n",
       "NC2.5              1161\n",
       "CNT               24994\n",
       "Fire Alarm            2\n",
       "dtype: int64"
      ]
     },
     "execution_count": 5,
     "metadata": {},
     "output_type": "execute_result"
    }
   ],
   "source": [
    "data.nunique()"
   ]
  },
  {
   "cell_type": "markdown",
   "metadata": {
    "id": "ediHCEeCKWuJ"
   },
   "source": [
    "**<h2> Data Preprocessing and Cleaning**"
   ]
  },
  {
   "cell_type": "markdown",
   "metadata": {},
   "source": [
    "This section covers data cleaning and preprocessing techniques that are essential to perform before using the dataset for model training. First, let us clean the data to be able to process it properly and efficiently later on."
   ]
  },
  {
   "cell_type": "markdown",
   "metadata": {},
   "source": [
    "Let us start the data cleaning process by checking for any null values."
   ]
  },
  {
   "cell_type": "code",
   "execution_count": 6,
   "metadata": {
    "colab": {
     "base_uri": "https://localhost:8080/"
    },
    "id": "SW_UbTTHCSlr",
    "outputId": "466cf3d4-46e0-4ff4-83c4-bdfb84d6ca8b"
   },
   "outputs": [
    {
     "data": {
      "text/plain": [
       "Unnamed: 0        0\n",
       "UTC               0\n",
       "Temperature[C]    0\n",
       "Humidity[%]       0\n",
       "TVOC[ppb]         0\n",
       "eCO2[ppm]         0\n",
       "Raw H2            0\n",
       "Raw Ethanol       0\n",
       "Pressure[hPa]     0\n",
       "PM1.0             0\n",
       "PM2.5             0\n",
       "NC0.5             0\n",
       "NC1.0             0\n",
       "NC2.5             0\n",
       "CNT               0\n",
       "Fire Alarm        0\n",
       "dtype: int64"
      ]
     },
     "execution_count": 6,
     "metadata": {},
     "output_type": "execute_result"
    }
   ],
   "source": [
    "data.isnull().sum()"
   ]
  },
  {
   "cell_type": "markdown",
   "metadata": {},
   "source": [
    "Great, there are no null values in the dataset. Let us now check for any duplicate data."
   ]
  },
  {
   "cell_type": "code",
   "execution_count": 7,
   "metadata": {
    "colab": {
     "base_uri": "https://localhost:8080/"
    },
    "id": "CnHyjdRhIQGj",
    "outputId": "724f7601-5347-4075-d2c4-07721f37476a"
   },
   "outputs": [
    {
     "data": {
      "text/plain": [
       "0        False\n",
       "1        False\n",
       "2        False\n",
       "3        False\n",
       "4        False\n",
       "         ...  \n",
       "62625    False\n",
       "62626    False\n",
       "62627    False\n",
       "62628    False\n",
       "62629    False\n",
       "Length: 62630, dtype: bool"
      ]
     },
     "execution_count": 7,
     "metadata": {},
     "output_type": "execute_result"
    }
   ],
   "source": [
    "data.duplicated()"
   ]
  },
  {
   "cell_type": "code",
   "execution_count": 8,
   "metadata": {},
   "outputs": [
    {
     "data": {
      "text/plain": [
       "62630"
      ]
     },
     "execution_count": 8,
     "metadata": {},
     "output_type": "execute_result"
    }
   ],
   "source": [
    "(data.duplicated()=='False').count()"
   ]
  },
  {
   "cell_type": "markdown",
   "metadata": {},
   "source": [
    "Now that we have checked for null and duplicate values, we can remove any unnecessary columns in the dataset that we will not use for model training. We can drop the `Unnamed: 0` and `UTC` features because these will be irrelevant for model training."
   ]
  },
  {
   "cell_type": "code",
   "execution_count": 9,
   "metadata": {
    "colab": {
     "base_uri": "https://localhost:8080/",
     "height": 288
    },
    "id": "p9u1FXuBGXmU",
    "outputId": "bcdb6727-2456-4790-868c-38e752c7a360"
   },
   "outputs": [
    {
     "data": {
      "text/html": [
       "<div>\n",
       "<style scoped>\n",
       "    .dataframe tbody tr th:only-of-type {\n",
       "        vertical-align: middle;\n",
       "    }\n",
       "\n",
       "    .dataframe tbody tr th {\n",
       "        vertical-align: top;\n",
       "    }\n",
       "\n",
       "    .dataframe thead th {\n",
       "        text-align: right;\n",
       "    }\n",
       "</style>\n",
       "<table border=\"1\" class=\"dataframe\">\n",
       "  <thead>\n",
       "    <tr style=\"text-align: right;\">\n",
       "      <th></th>\n",
       "      <th>Temperature[C]</th>\n",
       "      <th>Humidity[%]</th>\n",
       "      <th>TVOC[ppb]</th>\n",
       "      <th>eCO2[ppm]</th>\n",
       "      <th>Raw H2</th>\n",
       "      <th>Raw Ethanol</th>\n",
       "      <th>Pressure[hPa]</th>\n",
       "      <th>PM1.0</th>\n",
       "      <th>PM2.5</th>\n",
       "      <th>NC0.5</th>\n",
       "      <th>NC1.0</th>\n",
       "      <th>NC2.5</th>\n",
       "      <th>CNT</th>\n",
       "      <th>Fire Alarm</th>\n",
       "    </tr>\n",
       "  </thead>\n",
       "  <tbody>\n",
       "    <tr>\n",
       "      <th>0</th>\n",
       "      <td>20.000</td>\n",
       "      <td>57.36</td>\n",
       "      <td>0</td>\n",
       "      <td>400</td>\n",
       "      <td>12306</td>\n",
       "      <td>18520</td>\n",
       "      <td>939.735</td>\n",
       "      <td>0.0</td>\n",
       "      <td>0.0</td>\n",
       "      <td>0.0</td>\n",
       "      <td>0.0</td>\n",
       "      <td>0.0</td>\n",
       "      <td>0</td>\n",
       "      <td>0</td>\n",
       "    </tr>\n",
       "    <tr>\n",
       "      <th>1</th>\n",
       "      <td>20.015</td>\n",
       "      <td>56.67</td>\n",
       "      <td>0</td>\n",
       "      <td>400</td>\n",
       "      <td>12345</td>\n",
       "      <td>18651</td>\n",
       "      <td>939.744</td>\n",
       "      <td>0.0</td>\n",
       "      <td>0.0</td>\n",
       "      <td>0.0</td>\n",
       "      <td>0.0</td>\n",
       "      <td>0.0</td>\n",
       "      <td>1</td>\n",
       "      <td>0</td>\n",
       "    </tr>\n",
       "    <tr>\n",
       "      <th>2</th>\n",
       "      <td>20.029</td>\n",
       "      <td>55.96</td>\n",
       "      <td>0</td>\n",
       "      <td>400</td>\n",
       "      <td>12374</td>\n",
       "      <td>18764</td>\n",
       "      <td>939.738</td>\n",
       "      <td>0.0</td>\n",
       "      <td>0.0</td>\n",
       "      <td>0.0</td>\n",
       "      <td>0.0</td>\n",
       "      <td>0.0</td>\n",
       "      <td>2</td>\n",
       "      <td>0</td>\n",
       "    </tr>\n",
       "    <tr>\n",
       "      <th>3</th>\n",
       "      <td>20.044</td>\n",
       "      <td>55.28</td>\n",
       "      <td>0</td>\n",
       "      <td>400</td>\n",
       "      <td>12390</td>\n",
       "      <td>18849</td>\n",
       "      <td>939.736</td>\n",
       "      <td>0.0</td>\n",
       "      <td>0.0</td>\n",
       "      <td>0.0</td>\n",
       "      <td>0.0</td>\n",
       "      <td>0.0</td>\n",
       "      <td>3</td>\n",
       "      <td>0</td>\n",
       "    </tr>\n",
       "    <tr>\n",
       "      <th>4</th>\n",
       "      <td>20.059</td>\n",
       "      <td>54.69</td>\n",
       "      <td>0</td>\n",
       "      <td>400</td>\n",
       "      <td>12403</td>\n",
       "      <td>18921</td>\n",
       "      <td>939.744</td>\n",
       "      <td>0.0</td>\n",
       "      <td>0.0</td>\n",
       "      <td>0.0</td>\n",
       "      <td>0.0</td>\n",
       "      <td>0.0</td>\n",
       "      <td>4</td>\n",
       "      <td>0</td>\n",
       "    </tr>\n",
       "  </tbody>\n",
       "</table>\n",
       "</div>"
      ],
      "text/plain": [
       "   Temperature[C]  Humidity[%]  TVOC[ppb]  eCO2[ppm]  Raw H2  Raw Ethanol  \\\n",
       "0          20.000        57.36          0        400   12306        18520   \n",
       "1          20.015        56.67          0        400   12345        18651   \n",
       "2          20.029        55.96          0        400   12374        18764   \n",
       "3          20.044        55.28          0        400   12390        18849   \n",
       "4          20.059        54.69          0        400   12403        18921   \n",
       "\n",
       "   Pressure[hPa]  PM1.0  PM2.5  NC0.5  NC1.0  NC2.5  CNT  Fire Alarm  \n",
       "0        939.735    0.0    0.0    0.0    0.0    0.0    0           0  \n",
       "1        939.744    0.0    0.0    0.0    0.0    0.0    1           0  \n",
       "2        939.738    0.0    0.0    0.0    0.0    0.0    2           0  \n",
       "3        939.736    0.0    0.0    0.0    0.0    0.0    3           0  \n",
       "4        939.744    0.0    0.0    0.0    0.0    0.0    4           0  "
      ]
     },
     "execution_count": 9,
     "metadata": {},
     "output_type": "execute_result"
    }
   ],
   "source": [
    "data.drop(['Unnamed: 0', 'UTC'], axis = 1, inplace = True)\n",
    "data.head()"
   ]
  },
  {
   "cell_type": "markdown",
   "metadata": {},
   "source": [
    "We can now assign our `X` and `y` values. `X` will contain the data from all the columns except the `Fire Alarm` column. On the other hand, `y` will contain the data from the `Fire Alarm` column."
   ]
  },
  {
   "cell_type": "code",
   "execution_count": 10,
   "metadata": {
    "colab": {
     "base_uri": "https://localhost:8080/",
     "height": 270
    },
    "id": "62nCv6KLHoro",
    "outputId": "914c5b42-3c1d-4357-a8f7-ae573def7b3e"
   },
   "outputs": [
    {
     "data": {
      "text/html": [
       "<div>\n",
       "<style scoped>\n",
       "    .dataframe tbody tr th:only-of-type {\n",
       "        vertical-align: middle;\n",
       "    }\n",
       "\n",
       "    .dataframe tbody tr th {\n",
       "        vertical-align: top;\n",
       "    }\n",
       "\n",
       "    .dataframe thead th {\n",
       "        text-align: right;\n",
       "    }\n",
       "</style>\n",
       "<table border=\"1\" class=\"dataframe\">\n",
       "  <thead>\n",
       "    <tr style=\"text-align: right;\">\n",
       "      <th></th>\n",
       "      <th>Temperature[C]</th>\n",
       "      <th>Humidity[%]</th>\n",
       "      <th>TVOC[ppb]</th>\n",
       "      <th>eCO2[ppm]</th>\n",
       "      <th>Raw H2</th>\n",
       "      <th>Raw Ethanol</th>\n",
       "      <th>Pressure[hPa]</th>\n",
       "      <th>PM1.0</th>\n",
       "      <th>PM2.5</th>\n",
       "      <th>NC0.5</th>\n",
       "      <th>NC1.0</th>\n",
       "      <th>NC2.5</th>\n",
       "      <th>CNT</th>\n",
       "    </tr>\n",
       "  </thead>\n",
       "  <tbody>\n",
       "    <tr>\n",
       "      <th>0</th>\n",
       "      <td>20.000</td>\n",
       "      <td>57.36</td>\n",
       "      <td>0</td>\n",
       "      <td>400</td>\n",
       "      <td>12306</td>\n",
       "      <td>18520</td>\n",
       "      <td>939.735</td>\n",
       "      <td>0.0</td>\n",
       "      <td>0.0</td>\n",
       "      <td>0.0</td>\n",
       "      <td>0.0</td>\n",
       "      <td>0.0</td>\n",
       "      <td>0</td>\n",
       "    </tr>\n",
       "    <tr>\n",
       "      <th>1</th>\n",
       "      <td>20.015</td>\n",
       "      <td>56.67</td>\n",
       "      <td>0</td>\n",
       "      <td>400</td>\n",
       "      <td>12345</td>\n",
       "      <td>18651</td>\n",
       "      <td>939.744</td>\n",
       "      <td>0.0</td>\n",
       "      <td>0.0</td>\n",
       "      <td>0.0</td>\n",
       "      <td>0.0</td>\n",
       "      <td>0.0</td>\n",
       "      <td>1</td>\n",
       "    </tr>\n",
       "    <tr>\n",
       "      <th>2</th>\n",
       "      <td>20.029</td>\n",
       "      <td>55.96</td>\n",
       "      <td>0</td>\n",
       "      <td>400</td>\n",
       "      <td>12374</td>\n",
       "      <td>18764</td>\n",
       "      <td>939.738</td>\n",
       "      <td>0.0</td>\n",
       "      <td>0.0</td>\n",
       "      <td>0.0</td>\n",
       "      <td>0.0</td>\n",
       "      <td>0.0</td>\n",
       "      <td>2</td>\n",
       "    </tr>\n",
       "    <tr>\n",
       "      <th>3</th>\n",
       "      <td>20.044</td>\n",
       "      <td>55.28</td>\n",
       "      <td>0</td>\n",
       "      <td>400</td>\n",
       "      <td>12390</td>\n",
       "      <td>18849</td>\n",
       "      <td>939.736</td>\n",
       "      <td>0.0</td>\n",
       "      <td>0.0</td>\n",
       "      <td>0.0</td>\n",
       "      <td>0.0</td>\n",
       "      <td>0.0</td>\n",
       "      <td>3</td>\n",
       "    </tr>\n",
       "    <tr>\n",
       "      <th>4</th>\n",
       "      <td>20.059</td>\n",
       "      <td>54.69</td>\n",
       "      <td>0</td>\n",
       "      <td>400</td>\n",
       "      <td>12403</td>\n",
       "      <td>18921</td>\n",
       "      <td>939.744</td>\n",
       "      <td>0.0</td>\n",
       "      <td>0.0</td>\n",
       "      <td>0.0</td>\n",
       "      <td>0.0</td>\n",
       "      <td>0.0</td>\n",
       "      <td>4</td>\n",
       "    </tr>\n",
       "  </tbody>\n",
       "</table>\n",
       "</div>"
      ],
      "text/plain": [
       "   Temperature[C]  Humidity[%]  TVOC[ppb]  eCO2[ppm]  Raw H2  Raw Ethanol  \\\n",
       "0          20.000        57.36          0        400   12306        18520   \n",
       "1          20.015        56.67          0        400   12345        18651   \n",
       "2          20.029        55.96          0        400   12374        18764   \n",
       "3          20.044        55.28          0        400   12390        18849   \n",
       "4          20.059        54.69          0        400   12403        18921   \n",
       "\n",
       "   Pressure[hPa]  PM1.0  PM2.5  NC0.5  NC1.0  NC2.5  CNT  \n",
       "0        939.735    0.0    0.0    0.0    0.0    0.0    0  \n",
       "1        939.744    0.0    0.0    0.0    0.0    0.0    1  \n",
       "2        939.738    0.0    0.0    0.0    0.0    0.0    2  \n",
       "3        939.736    0.0    0.0    0.0    0.0    0.0    3  \n",
       "4        939.744    0.0    0.0    0.0    0.0    0.0    4  "
      ]
     },
     "execution_count": 10,
     "metadata": {},
     "output_type": "execute_result"
    }
   ],
   "source": [
    "X = data.drop(['Fire Alarm'], axis = 1)\n",
    "X.head()"
   ]
  },
  {
   "cell_type": "code",
   "execution_count": 11,
   "metadata": {
    "colab": {
     "base_uri": "https://localhost:8080/"
    },
    "id": "YX5N9UNGH46R",
    "outputId": "100d0698-063b-4659-c05e-cffddbd61807"
   },
   "outputs": [
    {
     "data": {
      "text/plain": [
       "0    0\n",
       "1    0\n",
       "2    0\n",
       "3    0\n",
       "4    0\n",
       "Name: Fire Alarm, dtype: int64"
      ]
     },
     "execution_count": 11,
     "metadata": {},
     "output_type": "execute_result"
    }
   ],
   "source": [
    "y = data['Fire Alarm']\n",
    "y.head()"
   ]
  },
  {
   "cell_type": "markdown",
   "metadata": {},
   "source": [
    "Now that we've assigned our data `X` and `y`, we are almost ready for model training. We can observe that our data values in different columns are very far apart from each other. `Raw H2` and `Raw Ethanol` have values of 12,000 and 18,000 above, while other columns would have very small numbers that are close to 0.\n",
    "\n",
    "To address this, we scale the data's range of values to fit within 0-1."
   ]
  },
  {
   "cell_type": "code",
   "execution_count": 12,
   "metadata": {
    "id": "SfTaQEXKGOrL"
   },
   "outputs": [],
   "source": [
    "scale = MinMaxScaler()"
   ]
  },
  {
   "cell_type": "code",
   "execution_count": 13,
   "metadata": {
    "colab": {
     "base_uri": "https://localhost:8080/",
     "height": 270
    },
    "id": "pjDW274HGSDr",
    "outputId": "8167af47-02f6-436b-b219-43d88bedf2d6",
    "scrolled": false
   },
   "outputs": [
    {
     "data": {
      "text/html": [
       "<div>\n",
       "<style scoped>\n",
       "    .dataframe tbody tr th:only-of-type {\n",
       "        vertical-align: middle;\n",
       "    }\n",
       "\n",
       "    .dataframe tbody tr th {\n",
       "        vertical-align: top;\n",
       "    }\n",
       "\n",
       "    .dataframe thead th {\n",
       "        text-align: right;\n",
       "    }\n",
       "</style>\n",
       "<table border=\"1\" class=\"dataframe\">\n",
       "  <thead>\n",
       "    <tr style=\"text-align: right;\">\n",
       "      <th></th>\n",
       "      <th>Temperature[C]</th>\n",
       "      <th>Humidity[%]</th>\n",
       "      <th>TVOC[ppb]</th>\n",
       "      <th>eCO2[ppm]</th>\n",
       "      <th>Raw H2</th>\n",
       "      <th>Raw Ethanol</th>\n",
       "      <th>Pressure[hPa]</th>\n",
       "      <th>PM1.0</th>\n",
       "      <th>PM2.5</th>\n",
       "      <th>NC0.5</th>\n",
       "      <th>NC1.0</th>\n",
       "      <th>NC2.5</th>\n",
       "      <th>CNT</th>\n",
       "    </tr>\n",
       "  </thead>\n",
       "  <tbody>\n",
       "    <tr>\n",
       "      <th>0</th>\n",
       "      <td>0.512692</td>\n",
       "      <td>0.723239</td>\n",
       "      <td>0.0</td>\n",
       "      <td>0.0</td>\n",
       "      <td>0.522488</td>\n",
       "      <td>0.525685</td>\n",
       "      <td>0.986014</td>\n",
       "      <td>0.0</td>\n",
       "      <td>0.0</td>\n",
       "      <td>0.0</td>\n",
       "      <td>0.0</td>\n",
       "      <td>0.0</td>\n",
       "      <td>0.00000</td>\n",
       "    </tr>\n",
       "    <tr>\n",
       "      <th>1</th>\n",
       "      <td>0.512875</td>\n",
       "      <td>0.712535</td>\n",
       "      <td>0.0</td>\n",
       "      <td>0.0</td>\n",
       "      <td>0.534928</td>\n",
       "      <td>0.547185</td>\n",
       "      <td>0.987013</td>\n",
       "      <td>0.0</td>\n",
       "      <td>0.0</td>\n",
       "      <td>0.0</td>\n",
       "      <td>0.0</td>\n",
       "      <td>0.0</td>\n",
       "      <td>0.00004</td>\n",
       "    </tr>\n",
       "    <tr>\n",
       "      <th>2</th>\n",
       "      <td>0.513046</td>\n",
       "      <td>0.701520</td>\n",
       "      <td>0.0</td>\n",
       "      <td>0.0</td>\n",
       "      <td>0.544179</td>\n",
       "      <td>0.565731</td>\n",
       "      <td>0.986347</td>\n",
       "      <td>0.0</td>\n",
       "      <td>0.0</td>\n",
       "      <td>0.0</td>\n",
       "      <td>0.0</td>\n",
       "      <td>0.0</td>\n",
       "      <td>0.00008</td>\n",
       "    </tr>\n",
       "    <tr>\n",
       "      <th>3</th>\n",
       "      <td>0.513229</td>\n",
       "      <td>0.690971</td>\n",
       "      <td>0.0</td>\n",
       "      <td>0.0</td>\n",
       "      <td>0.549282</td>\n",
       "      <td>0.579682</td>\n",
       "      <td>0.986125</td>\n",
       "      <td>0.0</td>\n",
       "      <td>0.0</td>\n",
       "      <td>0.0</td>\n",
       "      <td>0.0</td>\n",
       "      <td>0.0</td>\n",
       "      <td>0.00012</td>\n",
       "    </tr>\n",
       "    <tr>\n",
       "      <th>4</th>\n",
       "      <td>0.513412</td>\n",
       "      <td>0.681818</td>\n",
       "      <td>0.0</td>\n",
       "      <td>0.0</td>\n",
       "      <td>0.553429</td>\n",
       "      <td>0.591498</td>\n",
       "      <td>0.987013</td>\n",
       "      <td>0.0</td>\n",
       "      <td>0.0</td>\n",
       "      <td>0.0</td>\n",
       "      <td>0.0</td>\n",
       "      <td>0.0</td>\n",
       "      <td>0.00016</td>\n",
       "    </tr>\n",
       "  </tbody>\n",
       "</table>\n",
       "</div>"
      ],
      "text/plain": [
       "   Temperature[C]  Humidity[%]  TVOC[ppb]  eCO2[ppm]    Raw H2  Raw Ethanol  \\\n",
       "0        0.512692     0.723239        0.0        0.0  0.522488     0.525685   \n",
       "1        0.512875     0.712535        0.0        0.0  0.534928     0.547185   \n",
       "2        0.513046     0.701520        0.0        0.0  0.544179     0.565731   \n",
       "3        0.513229     0.690971        0.0        0.0  0.549282     0.579682   \n",
       "4        0.513412     0.681818        0.0        0.0  0.553429     0.591498   \n",
       "\n",
       "   Pressure[hPa]  PM1.0  PM2.5  NC0.5  NC1.0  NC2.5      CNT  \n",
       "0       0.986014    0.0    0.0    0.0    0.0    0.0  0.00000  \n",
       "1       0.987013    0.0    0.0    0.0    0.0    0.0  0.00004  \n",
       "2       0.986347    0.0    0.0    0.0    0.0    0.0  0.00008  \n",
       "3       0.986125    0.0    0.0    0.0    0.0    0.0  0.00012  \n",
       "4       0.987013    0.0    0.0    0.0    0.0    0.0  0.00016  "
      ]
     },
     "execution_count": 13,
     "metadata": {},
     "output_type": "execute_result"
    }
   ],
   "source": [
    "X = pd.DataFrame(scale.fit_transform(X),columns=X.columns)\n",
    "X.head()"
   ]
  },
  {
   "cell_type": "markdown",
   "metadata": {},
   "source": [
    "With normalized data, we can now split our data to have a train and test set. This will be split to `80%` going to the train set and `20%` going to the test set."
   ]
  },
  {
   "cell_type": "code",
   "execution_count": 14,
   "metadata": {
    "id": "KcFk4-JMCPMZ"
   },
   "outputs": [],
   "source": [
    "X_train, X_test, y_train, y_test = train_test_split(X, y, test_size=0.2, train_size=0.8, random_state=0)"
   ]
  },
  {
   "cell_type": "markdown",
   "metadata": {},
   "source": [
    "Lastly, before the train and test set can be used, let us check if our target classes are balanced."
   ]
  },
  {
   "cell_type": "code",
   "execution_count": 15,
   "metadata": {
    "colab": {
     "base_uri": "https://localhost:8080/"
    },
    "id": "lILZQQ76IVdf",
    "outputId": "3c8e2c7d-14ca-4928-81cb-b2c13761e999"
   },
   "outputs": [
    {
     "data": {
      "text/plain": [
       "1    35836\n",
       "0    14268\n",
       "Name: Fire Alarm, dtype: int64"
      ]
     },
     "execution_count": 15,
     "metadata": {},
     "output_type": "execute_result"
    }
   ],
   "source": [
    "y_train.value_counts()"
   ]
  },
  {
   "cell_type": "markdown",
   "metadata": {},
   "source": [
    "We can see that the target classes are imbalanced with class `1` having `blank` values, while `0` has `blank`. We can address this through over-sampling the minority class using the **Synthetic Minority Over-sampling Technique**."
   ]
  },
  {
   "cell_type": "code",
   "execution_count": 16,
   "metadata": {
    "id": "2Vj_z1vcIaat"
   },
   "outputs": [],
   "source": [
    "smote = SMOTE()\n",
    "X_train, y_train = smote.fit_resample(X_train, y_train)"
   ]
  },
  {
   "cell_type": "code",
   "execution_count": 17,
   "metadata": {
    "colab": {
     "base_uri": "https://localhost:8080/"
    },
    "id": "IFR7L4HVIskk",
    "outputId": "aec6b4de-f6b4-4794-cc41-9f9a56c23c97"
   },
   "outputs": [
    {
     "data": {
      "text/plain": [
       "0    35836\n",
       "1    35836\n",
       "Name: Fire Alarm, dtype: int64"
      ]
     },
     "execution_count": 17,
     "metadata": {},
     "output_type": "execute_result"
    }
   ],
   "source": [
    "y_train.value_counts()"
   ]
  },
  {
   "cell_type": "markdown",
   "metadata": {},
   "source": [
    "We can now see that the values of each target class are balanced. Our train and test sets are now ready to be used for model training."
   ]
  },
  {
   "cell_type": "markdown",
   "metadata": {
    "id": "EsE9fMfQKlrf"
   },
   "source": [
    "**<h2> Exploratory Data Analysis**"
   ]
  },
  {
   "cell_type": "code",
   "execution_count": 18,
   "metadata": {},
   "outputs": [],
   "source": [
    "# Import Data Visualization Tools\n",
    "import numpy as np\n",
    "import matplotlib.pyplot as plt\n",
    "%matplotlib inline"
   ]
  },
  {
   "cell_type": "markdown",
   "metadata": {},
   "source": [
    "We will be using 15% of our data for testing and 85% of our data for training. The figure below shows a pie chart of how much will be used for training and testing. The values in the pie chart are 82.6% for training and 17.4% for testing, this is because we used `SMOTE (Synthetic Minority Oversampling Technique)` to balance the training dataset which affects the percentage of the data split."
   ]
  },
  {
   "cell_type": "code",
   "execution_count": 19,
   "metadata": {},
   "outputs": [
    {
     "name": "stdout",
     "output_type": "stream",
     "text": [
      "[71672, 12526]\n"
     ]
    },
    {
     "data": {
      "image/png": "[encoded data removed]",
      "text/plain": [
       "<Figure size 432x288 with 1 Axes>"
      ]
     },
     "metadata": {},
     "output_type": "display_data"
    }
   ],
   "source": [
    "fig, ax = plt.subplots()\n",
    "ax.pie([X_train.shape[0],X_test.shape[0]], labels=[\"Training Set\", \"Test Set\"], autopct='%1.1f%%')\n",
    "ax.axis('equal')  # Equal aspect ratio ensures the pie chart is circular.\n",
    "ax.set_title('Data Split')\n",
    "print([X_train.shape[0],X_test.shape[0]])"
   ]
  },
  {
   "cell_type": "markdown",
   "metadata": {},
   "source": [
    "During data pre-processing and cleaning, we used `SMOTE (Synthetic Minority Oversampling Technique)` in the training dataset which creates a balance in the dataset. The chart below shows that the labels are 50/50 which means that the training dataset has the same amount of number per class. Therefore, models are now easier to train since this prevents becoming biased towards one class."
   ]
  },
  {
   "cell_type": "code",
   "execution_count": 20,
   "metadata": {},
   "outputs": [
    {
     "data": {
      "text/plain": [
       "Text(0.5, 1.0, 'Training Set Labels')"
      ]
     },
     "execution_count": 20,
     "metadata": {},
     "output_type": "execute_result"
    },
    {
     "data": {
      "image/png": "[encoded data removed]",
      "text/plain": [
       "<Figure size 432x288 with 1 Axes>"
      ]
     },
     "metadata": {},
     "output_type": "display_data"
    }
   ],
   "source": [
    "fig, ax = plt.subplots()\n",
    "ax.pie([y_train.value_counts()[0],y_train.value_counts()[1]], labels=[\"Label 0\", \"Label 1\"], autopct='%1.1f%%')\n",
    "ax.axis('equal')  # Equal aspect ratio ensures the pie chart is circular.\n",
    "ax.set_title('Training Set Labels')"
   ]
  },
  {
   "cell_type": "markdown",
   "metadata": {},
   "source": [
    "The chart below shows that there are more `Label 0` than `Label 1`. This is because we do not need to balance it since we are already dealing with the test data which should be authentic in order to test if our model really is accurate. The chart below shows the data of how many rows there are per class which are 28.8% for `0` (No fire detected) and 71.2% for `1` (Fire detected)."
   ]
  },
  {
   "cell_type": "code",
   "execution_count": 21,
   "metadata": {},
   "outputs": [
    {
     "data": {
      "text/plain": [
       "Text(0.5, 1.0, 'Test Set Labels')"
      ]
     },
     "execution_count": 21,
     "metadata": {},
     "output_type": "execute_result"
    },
    {
     "data": {
      "image/png": "[encoded data removed]",
      "text/plain": [
       "<Figure size 432x288 with 1 Axes>"
      ]
     },
     "metadata": {},
     "output_type": "display_data"
    }
   ],
   "source": [
    "fig, ax = plt.subplots()\n",
    "ax.pie([y_test.value_counts()[0],y_test.value_counts()[1]], labels=[\"Label 0\", \"Label 1\"], autopct='%1.1f%%')\n",
    "ax.axis('equal')  # Equal aspect ratio ensures the pie chart is circular.\n",
    "ax.set_title('Test Set Labels')"
   ]
  },
  {
   "cell_type": "markdown",
   "metadata": {},
   "source": [
    "The table below shows the basic statistic for our training dataset."
   ]
  },
  {
   "cell_type": "code",
   "execution_count": 22,
   "metadata": {},
   "outputs": [
    {
     "data": {
      "text/html": [
       "<div>\n",
       "<style scoped>\n",
       "    .dataframe tbody tr th:only-of-type {\n",
       "        vertical-align: middle;\n",
       "    }\n",
       "\n",
       "    .dataframe tbody tr th {\n",
       "        vertical-align: top;\n",
       "    }\n",
       "\n",
       "    .dataframe thead th {\n",
       "        text-align: right;\n",
       "    }\n",
       "</style>\n",
       "<table border=\"1\" class=\"dataframe\">\n",
       "  <thead>\n",
       "    <tr style=\"text-align: right;\">\n",
       "      <th></th>\n",
       "      <th>Temperature[C]</th>\n",
       "      <th>Humidity[%]</th>\n",
       "      <th>TVOC[ppb]</th>\n",
       "      <th>eCO2[ppm]</th>\n",
       "      <th>Raw H2</th>\n",
       "      <th>Raw Ethanol</th>\n",
       "      <th>Pressure[hPa]</th>\n",
       "      <th>PM1.0</th>\n",
       "      <th>PM2.5</th>\n",
       "      <th>NC0.5</th>\n",
       "      <th>NC1.0</th>\n",
       "      <th>NC2.5</th>\n",
       "      <th>CNT</th>\n",
       "    </tr>\n",
       "  </thead>\n",
       "  <tbody>\n",
       "    <tr>\n",
       "      <th>count</th>\n",
       "      <td>71672.000000</td>\n",
       "      <td>71672.000000</td>\n",
       "      <td>71672.000000</td>\n",
       "      <td>71672.000000</td>\n",
       "      <td>71672.000000</td>\n",
       "      <td>71672.000000</td>\n",
       "      <td>71672.000000</td>\n",
       "      <td>71672.000000</td>\n",
       "      <td>71672.000000</td>\n",
       "      <td>71672.000000</td>\n",
       "      <td>71672.000000</td>\n",
       "      <td>7.167200e+04</td>\n",
       "      <td>71672.000000</td>\n",
       "    </tr>\n",
       "    <tr>\n",
       "      <th>mean</th>\n",
       "      <td>0.476222</td>\n",
       "      <td>0.560607</td>\n",
       "      <td>0.044666</td>\n",
       "      <td>0.005967</td>\n",
       "      <td>0.721088</td>\n",
       "      <td>0.744909</td>\n",
       "      <td>0.845620</td>\n",
       "      <td>0.010416</td>\n",
       "      <td>0.005917</td>\n",
       "      <td>0.012067</td>\n",
       "      <td>0.005706</td>\n",
       "      <td>3.796478e-03</td>\n",
       "      <td>0.322858</td>\n",
       "    </tr>\n",
       "    <tr>\n",
       "      <th>std</th>\n",
       "      <td>0.178758</td>\n",
       "      <td>0.158379</td>\n",
       "      <td>0.168437</td>\n",
       "      <td>0.037816</td>\n",
       "      <td>0.104570</td>\n",
       "      <td>0.121825</td>\n",
       "      <td>0.147681</td>\n",
       "      <td>0.078020</td>\n",
       "      <td>0.051066</td>\n",
       "      <td>0.086266</td>\n",
       "      <td>0.049965</td>\n",
       "      <td>4.125540e-02</td>\n",
       "      <td>0.296690</td>\n",
       "    </tr>\n",
       "    <tr>\n",
       "      <th>min</th>\n",
       "      <td>0.000000</td>\n",
       "      <td>0.000000</td>\n",
       "      <td>0.000000</td>\n",
       "      <td>0.000000</td>\n",
       "      <td>0.000000</td>\n",
       "      <td>0.000000</td>\n",
       "      <td>0.000000</td>\n",
       "      <td>0.000000</td>\n",
       "      <td>0.000000</td>\n",
       "      <td>0.000000</td>\n",
       "      <td>0.000000</td>\n",
       "      <td>0.000000e+00</td>\n",
       "      <td>0.000000</td>\n",
       "    </tr>\n",
       "    <tr>\n",
       "      <th>25%</th>\n",
       "      <td>0.416182</td>\n",
       "      <td>0.543742</td>\n",
       "      <td>0.001117</td>\n",
       "      <td>0.000000</td>\n",
       "      <td>0.677848</td>\n",
       "      <td>0.677237</td>\n",
       "      <td>0.733564</td>\n",
       "      <td>0.000062</td>\n",
       "      <td>0.000020</td>\n",
       "      <td>0.000099</td>\n",
       "      <td>0.000018</td>\n",
       "      <td>7.659916e-07</td>\n",
       "      <td>0.083583</td>\n",
       "    </tr>\n",
       "    <tr>\n",
       "      <th>50%</th>\n",
       "      <td>0.515157</td>\n",
       "      <td>0.594477</td>\n",
       "      <td>0.004383</td>\n",
       "      <td>0.000000</td>\n",
       "      <td>0.716746</td>\n",
       "      <td>0.756442</td>\n",
       "      <td>0.878344</td>\n",
       "      <td>0.000123</td>\n",
       "      <td>0.000040</td>\n",
       "      <td>0.000197</td>\n",
       "      <td>0.000036</td>\n",
       "      <td>1.432071e-06</td>\n",
       "      <td>0.193733</td>\n",
       "    </tr>\n",
       "    <tr>\n",
       "      <th>75%</th>\n",
       "      <td>0.586881</td>\n",
       "      <td>0.653894</td>\n",
       "      <td>0.019433</td>\n",
       "      <td>0.000483</td>\n",
       "      <td>0.781818</td>\n",
       "      <td>0.810274</td>\n",
       "      <td>0.970821</td>\n",
       "      <td>0.000143</td>\n",
       "      <td>0.000047</td>\n",
       "      <td>0.000230</td>\n",
       "      <td>0.000042</td>\n",
       "      <td>1.665199e-06</td>\n",
       "      <td>0.551714</td>\n",
       "    </tr>\n",
       "    <tr>\n",
       "      <th>max</th>\n",
       "      <td>1.000000</td>\n",
       "      <td>1.000000</td>\n",
       "      <td>1.000000</td>\n",
       "      <td>1.000000</td>\n",
       "      <td>1.000000</td>\n",
       "      <td>1.000000</td>\n",
       "      <td>1.000000</td>\n",
       "      <td>0.998917</td>\n",
       "      <td>1.000000</td>\n",
       "      <td>1.000000</td>\n",
       "      <td>1.000000</td>\n",
       "      <td>1.000000e+00</td>\n",
       "      <td>1.000000</td>\n",
       "    </tr>\n",
       "  </tbody>\n",
       "</table>\n",
       "</div>"
      ],
      "text/plain": [
       "       Temperature[C]   Humidity[%]     TVOC[ppb]     eCO2[ppm]        Raw H2  \\\n",
       "count    71672.000000  71672.000000  71672.000000  71672.000000  71672.000000   \n",
       "mean         0.476222      0.560607      0.044666      0.005967      0.721088   \n",
       "std          0.178758      0.158379      0.168437      0.037816      0.104570   \n",
       "min          0.000000      0.000000      0.000000      0.000000      0.000000   \n",
       "25%          0.416182      0.543742      0.001117      0.000000      0.677848   \n",
       "50%          0.515157      0.594477      0.004383      0.000000      0.716746   \n",
       "75%          0.586881      0.653894      0.019433      0.000483      0.781818   \n",
       "max          1.000000      1.000000      1.000000      1.000000      1.000000   \n",
       "\n",
       "        Raw Ethanol  Pressure[hPa]         PM1.0         PM2.5         NC0.5  \\\n",
       "count  71672.000000   71672.000000  71672.000000  71672.000000  71672.000000   \n",
       "mean       0.744909       0.845620      0.010416      0.005917      0.012067   \n",
       "std        0.121825       0.147681      0.078020      0.051066      0.086266   \n",
       "min        0.000000       0.000000      0.000000      0.000000      0.000000   \n",
       "25%        0.677237       0.733564      0.000062      0.000020      0.000099   \n",
       "50%        0.756442       0.878344      0.000123      0.000040      0.000197   \n",
       "75%        0.810274       0.970821      0.000143      0.000047      0.000230   \n",
       "max        1.000000       1.000000      0.998917      1.000000      1.000000   \n",
       "\n",
       "              NC1.0         NC2.5           CNT  \n",
       "count  71672.000000  7.167200e+04  71672.000000  \n",
       "mean       0.005706  3.796478e-03      0.322858  \n",
       "std        0.049965  4.125540e-02      0.296690  \n",
       "min        0.000000  0.000000e+00      0.000000  \n",
       "25%        0.000018  7.659916e-07      0.083583  \n",
       "50%        0.000036  1.432071e-06      0.193733  \n",
       "75%        0.000042  1.665199e-06      0.551714  \n",
       "max        1.000000  1.000000e+00      1.000000  "
      ]
     },
     "execution_count": 22,
     "metadata": {},
     "output_type": "execute_result"
    }
   ],
   "source": [
    "X_train.describe()"
   ]
  },
  {
   "cell_type": "markdown",
   "metadata": {},
   "source": [
    "The table below shows the basic statistic for our test dataset."
   ]
  },
  {
   "cell_type": "code",
   "execution_count": 23,
   "metadata": {},
   "outputs": [
    {
     "data": {
      "text/html": [
       "<div>\n",
       "<style scoped>\n",
       "    .dataframe tbody tr th:only-of-type {\n",
       "        vertical-align: middle;\n",
       "    }\n",
       "\n",
       "    .dataframe tbody tr th {\n",
       "        vertical-align: top;\n",
       "    }\n",
       "\n",
       "    .dataframe thead th {\n",
       "        text-align: right;\n",
       "    }\n",
       "</style>\n",
       "<table border=\"1\" class=\"dataframe\">\n",
       "  <thead>\n",
       "    <tr style=\"text-align: right;\">\n",
       "      <th></th>\n",
       "      <th>Temperature[C]</th>\n",
       "      <th>Humidity[%]</th>\n",
       "      <th>TVOC[ppb]</th>\n",
       "      <th>eCO2[ppm]</th>\n",
       "      <th>Raw H2</th>\n",
       "      <th>Raw Ethanol</th>\n",
       "      <th>Pressure[hPa]</th>\n",
       "      <th>PM1.0</th>\n",
       "      <th>PM2.5</th>\n",
       "      <th>NC0.5</th>\n",
       "      <th>NC1.0</th>\n",
       "      <th>NC2.5</th>\n",
       "      <th>CNT</th>\n",
       "    </tr>\n",
       "  </thead>\n",
       "  <tbody>\n",
       "    <tr>\n",
       "      <th>count</th>\n",
       "      <td>12526.000000</td>\n",
       "      <td>12526.000000</td>\n",
       "      <td>12526.000000</td>\n",
       "      <td>12526.000000</td>\n",
       "      <td>12526.000000</td>\n",
       "      <td>12526.000000</td>\n",
       "      <td>12526.000000</td>\n",
       "      <td>12526.000000</td>\n",
       "      <td>12526.000000</td>\n",
       "      <td>12526.000000</td>\n",
       "      <td>12526.000000</td>\n",
       "      <td>12526.000000</td>\n",
       "      <td>12526.000000</td>\n",
       "    </tr>\n",
       "    <tr>\n",
       "      <th>mean</th>\n",
       "      <td>0.464844</td>\n",
       "      <td>0.586315</td>\n",
       "      <td>0.034599</td>\n",
       "      <td>0.004559</td>\n",
       "      <td>0.724818</td>\n",
       "      <td>0.727134</td>\n",
       "      <td>0.863081</td>\n",
       "      <td>0.007336</td>\n",
       "      <td>0.004142</td>\n",
       "      <td>0.008545</td>\n",
       "      <td>0.003993</td>\n",
       "      <td>0.002637</td>\n",
       "      <td>0.420469</td>\n",
       "    </tr>\n",
       "    <tr>\n",
       "      <th>std</th>\n",
       "      <td>0.174468</td>\n",
       "      <td>0.137481</td>\n",
       "      <td>0.136697</td>\n",
       "      <td>0.030984</td>\n",
       "      <td>0.088136</td>\n",
       "      <td>0.101993</td>\n",
       "      <td>0.145482</td>\n",
       "      <td>0.065182</td>\n",
       "      <td>0.043231</td>\n",
       "      <td>0.071659</td>\n",
       "      <td>0.042347</td>\n",
       "      <td>0.035425</td>\n",
       "      <td>0.303578</td>\n",
       "    </tr>\n",
       "    <tr>\n",
       "      <th>min</th>\n",
       "      <td>0.000000</td>\n",
       "      <td>0.000465</td>\n",
       "      <td>0.000000</td>\n",
       "      <td>0.000000</td>\n",
       "      <td>0.000000</td>\n",
       "      <td>0.000000</td>\n",
       "      <td>0.000000</td>\n",
       "      <td>0.000000</td>\n",
       "      <td>0.000000</td>\n",
       "      <td>0.000000</td>\n",
       "      <td>0.000000</td>\n",
       "      <td>0.000000</td>\n",
       "      <td>0.000000</td>\n",
       "    </tr>\n",
       "    <tr>\n",
       "      <th>25%</th>\n",
       "      <td>0.406523</td>\n",
       "      <td>0.570897</td>\n",
       "      <td>0.002233</td>\n",
       "      <td>0.000000</td>\n",
       "      <td>0.689633</td>\n",
       "      <td>0.675693</td>\n",
       "      <td>0.871129</td>\n",
       "      <td>0.000088</td>\n",
       "      <td>0.000029</td>\n",
       "      <td>0.000141</td>\n",
       "      <td>0.000026</td>\n",
       "      <td>0.000001</td>\n",
       "      <td>0.145121</td>\n",
       "    </tr>\n",
       "    <tr>\n",
       "      <th>50%</th>\n",
       "      <td>0.514523</td>\n",
       "      <td>0.611542</td>\n",
       "      <td>0.016467</td>\n",
       "      <td>0.000000</td>\n",
       "      <td>0.719298</td>\n",
       "      <td>0.686526</td>\n",
       "      <td>0.883783</td>\n",
       "      <td>0.000126</td>\n",
       "      <td>0.000041</td>\n",
       "      <td>0.000202</td>\n",
       "      <td>0.000037</td>\n",
       "      <td>0.000001</td>\n",
       "      <td>0.373285</td>\n",
       "    </tr>\n",
       "    <tr>\n",
       "      <th>75%</th>\n",
       "      <td>0.578228</td>\n",
       "      <td>0.659789</td>\n",
       "      <td>0.019850</td>\n",
       "      <td>0.000638</td>\n",
       "      <td>0.778309</td>\n",
       "      <td>0.781224</td>\n",
       "      <td>0.950355</td>\n",
       "      <td>0.000146</td>\n",
       "      <td>0.000048</td>\n",
       "      <td>0.000234</td>\n",
       "      <td>0.000043</td>\n",
       "      <td>0.000002</td>\n",
       "      <td>0.684622</td>\n",
       "    </tr>\n",
       "    <tr>\n",
       "      <th>max</th>\n",
       "      <td>1.000000</td>\n",
       "      <td>1.000000</td>\n",
       "      <td>1.000000</td>\n",
       "      <td>0.695201</td>\n",
       "      <td>0.999362</td>\n",
       "      <td>0.998523</td>\n",
       "      <td>0.999445</td>\n",
       "      <td>1.000000</td>\n",
       "      <td>0.990890</td>\n",
       "      <td>1.000000</td>\n",
       "      <td>0.990353</td>\n",
       "      <td>0.985488</td>\n",
       "      <td>0.999920</td>\n",
       "    </tr>\n",
       "  </tbody>\n",
       "</table>\n",
       "</div>"
      ],
      "text/plain": [
       "       Temperature[C]   Humidity[%]     TVOC[ppb]     eCO2[ppm]        Raw H2  \\\n",
       "count    12526.000000  12526.000000  12526.000000  12526.000000  12526.000000   \n",
       "mean         0.464844      0.586315      0.034599      0.004559      0.724818   \n",
       "std          0.174468      0.137481      0.136697      0.030984      0.088136   \n",
       "min          0.000000      0.000465      0.000000      0.000000      0.000000   \n",
       "25%          0.406523      0.570897      0.002233      0.000000      0.689633   \n",
       "50%          0.514523      0.611542      0.016467      0.000000      0.719298   \n",
       "75%          0.578228      0.659789      0.019850      0.000638      0.778309   \n",
       "max          1.000000      1.000000      1.000000      0.695201      0.999362   \n",
       "\n",
       "        Raw Ethanol  Pressure[hPa]         PM1.0         PM2.5         NC0.5  \\\n",
       "count  12526.000000   12526.000000  12526.000000  12526.000000  12526.000000   \n",
       "mean       0.727134       0.863081      0.007336      0.004142      0.008545   \n",
       "std        0.101993       0.145482      0.065182      0.043231      0.071659   \n",
       "min        0.000000       0.000000      0.000000      0.000000      0.000000   \n",
       "25%        0.675693       0.871129      0.000088      0.000029      0.000141   \n",
       "50%        0.686526       0.883783      0.000126      0.000041      0.000202   \n",
       "75%        0.781224       0.950355      0.000146      0.000048      0.000234   \n",
       "max        0.998523       0.999445      1.000000      0.990890      1.000000   \n",
       "\n",
       "              NC1.0         NC2.5           CNT  \n",
       "count  12526.000000  12526.000000  12526.000000  \n",
       "mean       0.003993      0.002637      0.420469  \n",
       "std        0.042347      0.035425      0.303578  \n",
       "min        0.000000      0.000000      0.000000  \n",
       "25%        0.000026      0.000001      0.145121  \n",
       "50%        0.000037      0.000001      0.373285  \n",
       "75%        0.000043      0.000002      0.684622  \n",
       "max        0.990353      0.985488      0.999920  "
      ]
     },
     "execution_count": 23,
     "metadata": {},
     "output_type": "execute_result"
    }
   ],
   "source": [
    "X_test.describe()"
   ]
  },
  {
   "cell_type": "markdown",
   "metadata": {},
   "source": [
    "The table below shows the basic statistic for our original dataset."
   ]
  },
  {
   "cell_type": "code",
   "execution_count": 24,
   "metadata": {
    "colab": {
     "base_uri": "https://localhost:8080/",
     "height": 364
    },
    "id": "wBpklRL-ys6k",
    "outputId": "327aeca5-2977-420e-bb00-5648771461f5"
   },
   "outputs": [
    {
     "data": {
      "text/html": [
       "<div>\n",
       "<style scoped>\n",
       "    .dataframe tbody tr th:only-of-type {\n",
       "        vertical-align: middle;\n",
       "    }\n",
       "\n",
       "    .dataframe tbody tr th {\n",
       "        vertical-align: top;\n",
       "    }\n",
       "\n",
       "    .dataframe thead th {\n",
       "        text-align: right;\n",
       "    }\n",
       "</style>\n",
       "<table border=\"1\" class=\"dataframe\">\n",
       "  <thead>\n",
       "    <tr style=\"text-align: right;\">\n",
       "      <th></th>\n",
       "      <th>Temperature[C]</th>\n",
       "      <th>Humidity[%]</th>\n",
       "      <th>TVOC[ppb]</th>\n",
       "      <th>eCO2[ppm]</th>\n",
       "      <th>Raw H2</th>\n",
       "      <th>Raw Ethanol</th>\n",
       "      <th>Pressure[hPa]</th>\n",
       "      <th>PM1.0</th>\n",
       "      <th>PM2.5</th>\n",
       "      <th>NC0.5</th>\n",
       "      <th>NC1.0</th>\n",
       "      <th>NC2.5</th>\n",
       "      <th>CNT</th>\n",
       "      <th>Fire Alarm</th>\n",
       "    </tr>\n",
       "  </thead>\n",
       "  <tbody>\n",
       "    <tr>\n",
       "      <th>count</th>\n",
       "      <td>62630.000000</td>\n",
       "      <td>62630.000000</td>\n",
       "      <td>62630.000000</td>\n",
       "      <td>62630.000000</td>\n",
       "      <td>62630.000000</td>\n",
       "      <td>62630.000000</td>\n",
       "      <td>62630.000000</td>\n",
       "      <td>62630.000000</td>\n",
       "      <td>62630.000000</td>\n",
       "      <td>62630.000000</td>\n",
       "      <td>62630.000000</td>\n",
       "      <td>62630.000000</td>\n",
       "      <td>62630.000000</td>\n",
       "      <td>62630.000000</td>\n",
       "    </tr>\n",
       "    <tr>\n",
       "      <th>mean</th>\n",
       "      <td>15.970424</td>\n",
       "      <td>48.539499</td>\n",
       "      <td>1942.057528</td>\n",
       "      <td>670.021044</td>\n",
       "      <td>12942.453936</td>\n",
       "      <td>19754.257912</td>\n",
       "      <td>938.627649</td>\n",
       "      <td>100.594309</td>\n",
       "      <td>184.467770</td>\n",
       "      <td>491.463608</td>\n",
       "      <td>203.586487</td>\n",
       "      <td>80.049042</td>\n",
       "      <td>10511.386157</td>\n",
       "      <td>0.714626</td>\n",
       "    </tr>\n",
       "    <tr>\n",
       "      <th>std</th>\n",
       "      <td>14.359576</td>\n",
       "      <td>8.865367</td>\n",
       "      <td>7811.589055</td>\n",
       "      <td>1905.885439</td>\n",
       "      <td>272.464305</td>\n",
       "      <td>609.513156</td>\n",
       "      <td>1.331344</td>\n",
       "      <td>922.524245</td>\n",
       "      <td>1976.305615</td>\n",
       "      <td>4265.661251</td>\n",
       "      <td>2214.738556</td>\n",
       "      <td>1083.383189</td>\n",
       "      <td>7597.870997</td>\n",
       "      <td>0.451596</td>\n",
       "    </tr>\n",
       "    <tr>\n",
       "      <th>min</th>\n",
       "      <td>-22.010000</td>\n",
       "      <td>10.740000</td>\n",
       "      <td>0.000000</td>\n",
       "      <td>400.000000</td>\n",
       "      <td>10668.000000</td>\n",
       "      <td>15317.000000</td>\n",
       "      <td>930.852000</td>\n",
       "      <td>0.000000</td>\n",
       "      <td>0.000000</td>\n",
       "      <td>0.000000</td>\n",
       "      <td>0.000000</td>\n",
       "      <td>0.000000</td>\n",
       "      <td>0.000000</td>\n",
       "      <td>0.000000</td>\n",
       "    </tr>\n",
       "    <tr>\n",
       "      <th>25%</th>\n",
       "      <td>10.994250</td>\n",
       "      <td>47.530000</td>\n",
       "      <td>130.000000</td>\n",
       "      <td>400.000000</td>\n",
       "      <td>12830.000000</td>\n",
       "      <td>19435.000000</td>\n",
       "      <td>938.700000</td>\n",
       "      <td>1.280000</td>\n",
       "      <td>1.340000</td>\n",
       "      <td>8.820000</td>\n",
       "      <td>1.384000</td>\n",
       "      <td>0.033000</td>\n",
       "      <td>3625.250000</td>\n",
       "      <td>0.000000</td>\n",
       "    </tr>\n",
       "    <tr>\n",
       "      <th>50%</th>\n",
       "      <td>20.130000</td>\n",
       "      <td>50.150000</td>\n",
       "      <td>981.000000</td>\n",
       "      <td>400.000000</td>\n",
       "      <td>12924.000000</td>\n",
       "      <td>19501.000000</td>\n",
       "      <td>938.816000</td>\n",
       "      <td>1.810000</td>\n",
       "      <td>1.880000</td>\n",
       "      <td>12.450000</td>\n",
       "      <td>1.943000</td>\n",
       "      <td>0.044000</td>\n",
       "      <td>9336.000000</td>\n",
       "      <td>1.000000</td>\n",
       "    </tr>\n",
       "    <tr>\n",
       "      <th>75%</th>\n",
       "      <td>25.409500</td>\n",
       "      <td>53.240000</td>\n",
       "      <td>1189.000000</td>\n",
       "      <td>438.000000</td>\n",
       "      <td>13109.000000</td>\n",
       "      <td>20078.000000</td>\n",
       "      <td>939.418000</td>\n",
       "      <td>2.090000</td>\n",
       "      <td>2.180000</td>\n",
       "      <td>14.420000</td>\n",
       "      <td>2.249000</td>\n",
       "      <td>0.051000</td>\n",
       "      <td>17164.750000</td>\n",
       "      <td>1.000000</td>\n",
       "    </tr>\n",
       "    <tr>\n",
       "      <th>max</th>\n",
       "      <td>59.930000</td>\n",
       "      <td>75.200000</td>\n",
       "      <td>60000.000000</td>\n",
       "      <td>60000.000000</td>\n",
       "      <td>13803.000000</td>\n",
       "      <td>21410.000000</td>\n",
       "      <td>939.861000</td>\n",
       "      <td>14333.690000</td>\n",
       "      <td>45432.260000</td>\n",
       "      <td>61482.030000</td>\n",
       "      <td>51914.680000</td>\n",
       "      <td>30026.438000</td>\n",
       "      <td>24993.000000</td>\n",
       "      <td>1.000000</td>\n",
       "    </tr>\n",
       "  </tbody>\n",
       "</table>\n",
       "</div>"
      ],
      "text/plain": [
       "       Temperature[C]   Humidity[%]     TVOC[ppb]     eCO2[ppm]        Raw H2  \\\n",
       "count    62630.000000  62630.000000  62630.000000  62630.000000  62630.000000   \n",
       "mean        15.970424     48.539499   1942.057528    670.021044  12942.453936   \n",
       "std         14.359576      8.865367   7811.589055   1905.885439    272.464305   \n",
       "min        -22.010000     10.740000      0.000000    400.000000  10668.000000   \n",
       "25%         10.994250     47.530000    130.000000    400.000000  12830.000000   \n",
       "50%         20.130000     50.150000    981.000000    400.000000  12924.000000   \n",
       "75%         25.409500     53.240000   1189.000000    438.000000  13109.000000   \n",
       "max         59.930000     75.200000  60000.000000  60000.000000  13803.000000   \n",
       "\n",
       "        Raw Ethanol  Pressure[hPa]         PM1.0         PM2.5         NC0.5  \\\n",
       "count  62630.000000   62630.000000  62630.000000  62630.000000  62630.000000   \n",
       "mean   19754.257912     938.627649    100.594309    184.467770    491.463608   \n",
       "std      609.513156       1.331344    922.524245   1976.305615   4265.661251   \n",
       "min    15317.000000     930.852000      0.000000      0.000000      0.000000   \n",
       "25%    19435.000000     938.700000      1.280000      1.340000      8.820000   \n",
       "50%    19501.000000     938.816000      1.810000      1.880000     12.450000   \n",
       "75%    20078.000000     939.418000      2.090000      2.180000     14.420000   \n",
       "max    21410.000000     939.861000  14333.690000  45432.260000  61482.030000   \n",
       "\n",
       "              NC1.0         NC2.5           CNT    Fire Alarm  \n",
       "count  62630.000000  62630.000000  62630.000000  62630.000000  \n",
       "mean     203.586487     80.049042  10511.386157      0.714626  \n",
       "std     2214.738556   1083.383189   7597.870997      0.451596  \n",
       "min        0.000000      0.000000      0.000000      0.000000  \n",
       "25%        1.384000      0.033000   3625.250000      0.000000  \n",
       "50%        1.943000      0.044000   9336.000000      1.000000  \n",
       "75%        2.249000      0.051000  17164.750000      1.000000  \n",
       "max    51914.680000  30026.438000  24993.000000      1.000000  "
      ]
     },
     "execution_count": 24,
     "metadata": {},
     "output_type": "execute_result"
    }
   ],
   "source": [
    "data.describe()"
   ]
  },
  {
   "cell_type": "markdown",
   "metadata": {
    "id": "3fi-ExoYKxOH"
   },
   "source": [
    "**<h2> Model Training**"
   ]
  },
  {
   "cell_type": "markdown",
   "metadata": {
    "id": "ghTYH8dqNKpJ"
   },
   "source": [
    "<h3> Binomial Logistic Regression"
   ]
  },
  {
   "cell_type": "code",
   "execution_count": 25,
   "metadata": {
    "id": "_AHHmwrxmQMM"
   },
   "outputs": [],
   "source": [
    "logreg = SGDClassifier(loss='log', eta0=0.001, learning_rate='optimal', random_state=1, verbose=0)\n",
    "max_epochs = 200"
   ]
  },
  {
   "cell_type": "code",
   "execution_count": 26,
   "metadata": {
    "id": "6XgfNiqDu4HL"
   },
   "outputs": [],
   "source": [
    "class DataLoader(object):\n",
    "\n",
    "    def __init__(self, X, y, batch_size):\n",
    "        self.X = X\n",
    "        self.y = y\n",
    "        self.batch_size = batch_size\n",
    "\n",
    "        self.indices = np.array([i for i in range(self.X.shape[0])])\n",
    "        np.random.seed(1)\n",
    "\n",
    "    def shuffle(self):\n",
    "        np.random.shuffle(self.indices)\n",
    "\n",
    "    def get_batch(self, mode='train'):\n",
    "        X_batch = []\n",
    "        y_batch = []\n",
    "\n",
    "        if mode == 'train':\n",
    "            self.shuffle()\n",
    "            \n",
    "        elif mode == 'test':\n",
    "            self.indices = np.array([i for i in range(self.X.shape[0])])\n",
    "\n",
    "        for i in range(0, len(self.indices), self.batch_size):\n",
    "            if i + self.batch_size <= len(self.indices):\n",
    "                indices = self.indices[i:i + self.batch_size]\n",
    "            else:\n",
    "                indices = self.indices[i:]\n",
    "\n",
    "            X_batch.append(self.X.iloc[indices])\n",
    "            y_batch.append(self.y.iloc[indices])\n",
    "\n",
    "        return X_batch, y_batch"
   ]
  },
  {
   "cell_type": "code",
   "execution_count": 27,
   "metadata": {
    "colab": {
     "base_uri": "https://localhost:8080/"
    },
    "id": "4DloWbNyu8do",
    "outputId": "8a4d16e5-c970-4e23-ad89-80dbb207da88",
    "scrolled": true
   },
   "outputs": [],
   "source": [
    "data_loader = DataLoader(X=X_train, y=y_train, batch_size=128)"
   ]
  },
  {
   "cell_type": "code",
   "execution_count": 28,
   "metadata": {
    "colab": {
     "base_uri": "https://localhost:8080/"
    },
    "id": "YIRXQAmGmogw",
    "outputId": "b2ed7b9f-5610-4deb-8c13-5251fa0cc1e1"
   },
   "outputs": [
    {
     "name": "stderr",
     "output_type": "stream",
     "text": [
      "/Users/leigh/opt/anaconda3/lib/python3.8/site-packages/sklearn/linear_model/_stochastic_gradient.py:165: FutureWarning: The loss 'log' was deprecated in v1.1 and will be removed in version 1.3. Use `loss='log_loss'` which is equivalent.\n",
      "  warnings.warn(\n"
     ]
    },
    {
     "name": "stdout",
     "output_type": "stream",
     "text": [
      "Epoch: 1 \tLoss: 0.1789423500452319\n",
      "Epoch: 2 \tLoss: 0.14543984561944748\n",
      "Epoch: 3 \tLoss: 0.1447052026318729\n",
      "Epoch: 4 \tLoss: 0.14433077403940947\n",
      "Epoch: 5 \tLoss: 0.1441650248042113\n"
     ]
    }
   ],
   "source": [
    "from sklearn.metrics import log_loss\n",
    "\n",
    "e = 0\n",
    "is_converged = False\n",
    "previous_loss = 0\n",
    "labels = np.unique(y_train)\n",
    "\n",
    "while e < max_epochs and is_converged is not True:\n",
    "    \n",
    "    loss=0\n",
    "    \n",
    "    X_batch,y_batch = data_loader.get_batch()\n",
    "    \n",
    "    for X,y in zip(X_batch,y_batch):\n",
    "        logreg.partial_fit(X,y,classes=labels)\n",
    "        y_pred = logreg.predict_proba(X_train)\n",
    "        loss += log_loss(y_train,y_pred)\n",
    "        \n",
    "    print('Epoch:', e + 1, '\\tLoss:', (loss / len(X_batch)))\n",
    "    \n",
    "    if abs(previous_loss - loss)<0.1:\n",
    "        is_converged = True\n",
    "    else:\n",
    "        previous_loss = loss\n",
    "        e +=1"
   ]
  },
  {
   "cell_type": "code",
   "execution_count": 29,
   "metadata": {
    "id": "aXb1vqIUm29T"
   },
   "outputs": [
    {
     "name": "stdout",
     "output_type": "stream",
     "text": [
      "[0 1 0 ... 1 0 0]\n"
     ]
    }
   ],
   "source": [
    "predictions = logreg.predict(X_test)\n",
    "print(predictions)"
   ]
  },
  {
   "cell_type": "code",
   "execution_count": 30,
   "metadata": {
    "id": "CyMBA1HgnAT7"
   },
   "outputs": [
    {
     "name": "stdout",
     "output_type": "stream",
     "text": [
      "11643 out of 12526\n"
     ]
    }
   ],
   "source": [
    "num_correct = np.sum(predictions == y_test)\n",
    "print(num_correct, 'out of', len(y_test))"
   ]
  },
  {
   "cell_type": "code",
   "execution_count": 31,
   "metadata": {
    "id": "KaHdoVJsncI5"
   },
   "outputs": [
    {
     "name": "stdout",
     "output_type": "stream",
     "text": [
      "92.95066262174677 %\n"
     ]
    }
   ],
   "source": [
    "accuracy = num_correct / len(y_test) * 100\n",
    "print(accuracy, '%')"
   ]
  },
  {
   "cell_type": "code",
   "execution_count": 32,
   "metadata": {
    "id": "hNRfbFV-niok",
    "scrolled": true
   },
   "outputs": [
    {
     "name": "stdout",
     "output_type": "stream",
     "text": [
      "              precision    recall  f1-score   support\n",
      "\n",
      "           0       0.81      0.98      0.89      3605\n",
      "           1       0.99      0.91      0.95      8921\n",
      "\n",
      "    accuracy                           0.93     12526\n",
      "   macro avg       0.90      0.94      0.92     12526\n",
      "weighted avg       0.94      0.93      0.93     12526\n",
      "\n"
     ]
    }
   ],
   "source": [
    "print(classification_report(y_test, predictions))"
   ]
  },
  {
   "cell_type": "markdown",
   "metadata": {
    "id": "Od_zECQNNQ_R"
   },
   "source": [
    "<h3> Gaussian Naive Bayes"
   ]
  },
  {
   "cell_type": "code",
   "execution_count": 33,
   "metadata": {},
   "outputs": [
    {
     "data": {
      "text/html": [
       "<style>#sk-container-id-1 {color: black;background-color: white;}#sk-container-id-1 pre{padding: 0;}#sk-container-id-1 div.sk-toggleable {background-color: white;}#sk-container-id-1 label.sk-toggleable__label {cursor: pointer;display: block;width: 100%;margin-bottom: 0;padding: 0.3em;box-sizing: border-box;text-align: center;}#sk-container-id-1 label.sk-toggleable__label-arrow:before {content: \"▸\";float: left;margin-right: 0.25em;color: #696969;}#sk-container-id-1 label.sk-toggleable__label-arrow:hover:before {color: black;}#sk-container-id-1 div.sk-estimator:hover label.sk-toggleable__label-arrow:before {color: black;}#sk-container-id-1 div.sk-toggleable__content {max-height: 0;max-width: 0;overflow: hidden;text-align: left;background-color: #f0f8ff;}#sk-container-id-1 div.sk-toggleable__content pre {margin: 0.2em;color: black;border-radius: 0.25em;background-color: #f0f8ff;}#sk-container-id-1 input.sk-toggleable__control:checked~div.sk-toggleable__content {max-height: 200px;max-width: 100%;overflow: auto;}#sk-container-id-1 input.sk-toggleable__control:checked~label.sk-toggleable__label-arrow:before {content: \"▾\";}#sk-container-id-1 div.sk-estimator input.sk-toggleable__control:checked~label.sk-toggleable__label {background-color: #d4ebff;}#sk-container-id-1 div.sk-label input.sk-toggleable__control:checked~label.sk-toggleable__label {background-color: #d4ebff;}#sk-container-id-1 input.sk-hidden--visually {border: 0;clip: rect(1px 1px 1px 1px);clip: rect(1px, 1px, 1px, 1px);height: 1px;margin: -1px;overflow: hidden;padding: 0;position: absolute;width: 1px;}#sk-container-id-1 div.sk-estimator {font-family: monospace;background-color: #f0f8ff;border: 1px dotted black;border-radius: 0.25em;box-sizing: border-box;margin-bottom: 0.5em;}#sk-container-id-1 div.sk-estimator:hover {background-color: #d4ebff;}#sk-container-id-1 div.sk-parallel-item::after {content: \"\";width: 100%;border-bottom: 1px solid gray;flex-grow: 1;}#sk-container-id-1 div.sk-label:hover label.sk-toggleable__label {background-color: #d4ebff;}#sk-container-id-1 div.sk-serial::before {content: \"\";position: absolute;border-left: 1px solid gray;box-sizing: border-box;top: 0;bottom: 0;left: 50%;z-index: 0;}#sk-container-id-1 div.sk-serial {display: flex;flex-direction: column;align-items: center;background-color: white;padding-right: 0.2em;padding-left: 0.2em;position: relative;}#sk-container-id-1 div.sk-item {position: relative;z-index: 1;}#sk-container-id-1 div.sk-parallel {display: flex;align-items: stretch;justify-content: center;background-color: white;position: relative;}#sk-container-id-1 div.sk-item::before, #sk-container-id-1 div.sk-parallel-item::before {content: \"\";position: absolute;border-left: 1px solid gray;box-sizing: border-box;top: 0;bottom: 0;left: 50%;z-index: -1;}#sk-container-id-1 div.sk-parallel-item {display: flex;flex-direction: column;z-index: 1;position: relative;background-color: white;}#sk-container-id-1 div.sk-parallel-item:first-child::after {align-self: flex-end;width: 50%;}#sk-container-id-1 div.sk-parallel-item:last-child::after {align-self: flex-start;width: 50%;}#sk-container-id-1 div.sk-parallel-item:only-child::after {width: 0;}#sk-container-id-1 div.sk-dashed-wrapped {border: 1px dashed gray;margin: 0 0.4em 0.5em 0.4em;box-sizing: border-box;padding-bottom: 0.4em;background-color: white;}#sk-container-id-1 div.sk-label label {font-family: monospace;font-weight: bold;display: inline-block;line-height: 1.2em;}#sk-container-id-1 div.sk-label-container {text-align: center;}#sk-container-id-1 div.sk-container {/* jupyter's `normalize.less` sets `[hidden] { display: none; }` but bootstrap.min.css set `[hidden] { display: none !important; }` so we also need the `!important` here to be able to override the default hidden behavior on the sphinx rendered scikit-learn.org. See: https://github.com/scikit-learn/scikit-learn/issues/21755 */display: inline-block !important;position: relative;}#sk-container-id-1 div.sk-text-repr-fallback {display: none;}</style><div id=\"sk-container-id-1\" class=\"sk-top-container\"><div class=\"sk-text-repr-fallback\"><pre>GaussianNB()</pre><b>In a Jupyter environment, please rerun this cell to show the HTML representation or trust the notebook. <br />On GitHub, the HTML representation is unable to render, please try loading this page with nbviewer.org.</b></div><div class=\"sk-container\" hidden><div class=\"sk-item\"><div class=\"sk-estimator sk-toggleable\"><input class=\"sk-toggleable__control sk-hidden--visually\" id=\"sk-estimator-id-1\" type=\"checkbox\" checked><label for=\"sk-estimator-id-1\" class=\"sk-toggleable__label sk-toggleable__label-arrow\">GaussianNB</label><div class=\"sk-toggleable__content\"><pre>GaussianNB()</pre></div></div></div></div></div>"
      ],
      "text/plain": [
       "GaussianNB()"
      ]
     },
     "execution_count": 33,
     "metadata": {},
     "output_type": "execute_result"
    }
   ],
   "source": [
    "gnb = GaussianNB()\n",
    "gnb.fit(X_train, y_train)"
   ]
  },
  {
   "cell_type": "code",
   "execution_count": 34,
   "metadata": {},
   "outputs": [
    {
     "data": {
      "text/plain": [
       "array([1, 1, 1, ..., 1, 1, 1])"
      ]
     },
     "execution_count": 34,
     "metadata": {},
     "output_type": "execute_result"
    }
   ],
   "source": [
    "predictions = gnb.predict(X_test)\n",
    "predictions"
   ]
  },
  {
   "cell_type": "code",
   "execution_count": 35,
   "metadata": {},
   "outputs": [
    {
     "name": "stdout",
     "output_type": "stream",
     "text": [
      "10186 out of 12526\n"
     ]
    }
   ],
   "source": [
    "num_correct = np.sum(predictions == y_test)\n",
    "print(num_correct, 'out of', len(y_test))"
   ]
  },
  {
   "cell_type": "code",
   "execution_count": 36,
   "metadata": {},
   "outputs": [
    {
     "name": "stdout",
     "output_type": "stream",
     "text": [
      "81.31885677790196 %\n"
     ]
    }
   ],
   "source": [
    "accuracy = num_correct / len(y_test) * 100\n",
    "print(accuracy, '%')"
   ]
  },
  {
   "cell_type": "markdown",
   "metadata": {
    "id": "oa2nrtFrNWRc"
   },
   "source": [
    "<h3> k Nearest Neighbors"
   ]
  },
  {
   "cell_type": "markdown",
   "metadata": {},
   "source": [
    "KNN is suitable for this dataset because of how the dataset contains different numerical values. By using kNN, we will be using the euclidean distance or manhattan distance to get the nearest neighbors and predict data.\n",
    "\n",
    "Let's import the `KNeighborsClassifier` class."
   ]
  },
  {
   "cell_type": "code",
   "execution_count": 37,
   "metadata": {},
   "outputs": [],
   "source": [
    "from sklearn.neighbors import KNeighborsClassifier"
   ]
  },
  {
   "cell_type": "markdown",
   "metadata": {},
   "source": [
    "We will be setting the hyperparameter k = 5."
   ]
  },
  {
   "cell_type": "code",
   "execution_count": 38,
   "metadata": {},
   "outputs": [],
   "source": [
    "neighbors = 5"
   ]
  },
  {
   "cell_type": "markdown",
   "metadata": {},
   "source": [
    "Assign the `KNeighborsClassifier` object to `knn` and use `fit()` to train the model."
   ]
  },
  {
   "cell_type": "code",
   "execution_count": 39,
   "metadata": {},
   "outputs": [],
   "source": [
    "knn = KNeighborsClassifier(n_neighbors = neighbors)\n",
    "knn = knn.fit(X_train, y_train)"
   ]
  },
  {
   "cell_type": "markdown",
   "metadata": {},
   "source": [
    "Let us test the training model using `predict()`."
   ]
  },
  {
   "cell_type": "code",
   "execution_count": 40,
   "metadata": {},
   "outputs": [],
   "source": [
    "y_train_knn = knn.predict(X_train)"
   ]
  },
  {
   "cell_type": "markdown",
   "metadata": {},
   "source": [
    "Let's now look at the accuracy of the model in the train set. As seen in the data below, 71667 out of 71672 are correct and the model's accuracy in the train set is 99.99%."
   ]
  },
  {
   "cell_type": "code",
   "execution_count": 41,
   "metadata": {},
   "outputs": [
    {
     "name": "stdout",
     "output_type": "stream",
     "text": [
      "71667 out of 71672\n"
     ]
    }
   ],
   "source": [
    "num_correct = np.sum(y_train_knn == y_train)\n",
    "print(num_correct, 'out of', len(y_train))"
   ]
  },
  {
   "cell_type": "code",
   "execution_count": 42,
   "metadata": {},
   "outputs": [
    {
     "name": "stdout",
     "output_type": "stream",
     "text": [
      "99.99302377497489 %\n"
     ]
    }
   ],
   "source": [
    "accuracy = num_correct / len(y_train) * 100\n",
    "print(accuracy, '%')"
   ]
  },
  {
   "cell_type": "markdown",
   "metadata": {},
   "source": [
    "Next, let's now test the test model using `predict()`."
   ]
  },
  {
   "cell_type": "code",
   "execution_count": 43,
   "metadata": {},
   "outputs": [],
   "source": [
    "y_test_knn = knn.predict(X_test)"
   ]
  },
  {
   "cell_type": "markdown",
   "metadata": {},
   "source": [
    "Let's use the function `classification_report()` to evaluate the performance of our model. According to the output, we have produced pretty good results."
   ]
  },
  {
   "cell_type": "code",
   "execution_count": 44,
   "metadata": {},
   "outputs": [
    {
     "name": "stdout",
     "output_type": "stream",
     "text": [
      "              precision    recall  f1-score   support\n",
      "\n",
      "           0       1.00      1.00      1.00      3605\n",
      "           1       1.00      1.00      1.00      8921\n",
      "\n",
      "    accuracy                           1.00     12526\n",
      "   macro avg       1.00      1.00      1.00     12526\n",
      "weighted avg       1.00      1.00      1.00     12526\n",
      "\n"
     ]
    }
   ],
   "source": [
    "printClassificationReport = classification_report(y_test, y_test_knn)\n",
    "print(printClassificationReport)"
   ]
  },
  {
   "cell_type": "markdown",
   "metadata": {},
   "source": [
    "Let's now look at the accuracy of the model in the test set. As seen in the data below, 12524 out of 12526 are correct and the model's accuracy in the test set is 99.98%."
   ]
  },
  {
   "cell_type": "code",
   "execution_count": 45,
   "metadata": {},
   "outputs": [
    {
     "name": "stdout",
     "output_type": "stream",
     "text": [
      "12525 out of 12526\n"
     ]
    }
   ],
   "source": [
    "num_correct = np.sum(y_test_knn == y_test)\n",
    "print(num_correct, 'out of', len(y_test))"
   ]
  },
  {
   "cell_type": "code",
   "execution_count": 46,
   "metadata": {},
   "outputs": [
    {
     "name": "stdout",
     "output_type": "stream",
     "text": [
      "99.99201660546065 %\n"
     ]
    }
   ],
   "source": [
    "accuracy = num_correct / len(y_test) * 100\n",
    "print(accuracy, '%')"
   ]
  },
  {
   "cell_type": "markdown",
   "metadata": {},
   "source": [
    "Let's compare our Train Score and Test Score."
   ]
  },
  {
   "cell_type": "code",
   "execution_count": 47,
   "metadata": {},
   "outputs": [
    {
     "name": "stdout",
     "output_type": "stream",
     "text": [
      "KNN Train Score:  0.9999302377497489\n",
      "KNN Test Score:  0.9999201660546064\n"
     ]
    }
   ],
   "source": [
    "print('KNN Train Score: ', knn.score(X_train, y_train))\n",
    "print('KNN Test Score: ', knn.score(X_test, y_test))"
   ]
  },
  {
   "cell_type": "markdown",
   "metadata": {},
   "source": [
    "#### Cross-Validation for kNN"
   ]
  },
  {
   "cell_type": "markdown",
   "metadata": {},
   "source": [
    "Instead of hyperparameter tuning, we will be doing cross-validation for kNN since results show we already have high accuracy. For cross-validation, we will be testing whether or not our k has the best results by using the k-fold cross-validation method.\n",
    "\n",
    "Let us first import the packages needed for cross-validation."
   ]
  },
  {
   "cell_type": "code",
   "execution_count": 48,
   "metadata": {},
   "outputs": [],
   "source": [
    "from sklearn.model_selection import cross_val_predict, cross_val_score"
   ]
  },
  {
   "cell_type": "markdown",
   "metadata": {},
   "source": [
    "`k_folds` will be set to 10."
   ]
  },
  {
   "cell_type": "code",
   "execution_count": 49,
   "metadata": {},
   "outputs": [],
   "source": [
    "k_folds = 10"
   ]
  },
  {
   "cell_type": "markdown",
   "metadata": {},
   "source": [
    "`k_choices` will be an array of hyperparameter `k` that we will be testing in order to find the best one. We will also set the `scores` matrix temporarily to 0."
   ]
  },
  {
   "cell_type": "code",
   "execution_count": 50,
   "metadata": {},
   "outputs": [],
   "source": [
    "k_choices = [1, 3, 5, 7, 9, 11, 13, 15, 17, 20, 40, 50, 60, 80, 100]\n",
    "scores = np.zeros((len(k_choices), k_folds))"
   ]
  },
  {
   "cell_type": "markdown",
   "metadata": {},
   "source": [
    "We will now look at the k-folds per hyperparameter `k` in `k_choices` and see which is the best one by showing the scores per fold in each k and compute the average accuracy."
   ]
  },
  {
   "cell_type": "code",
   "execution_count": 51,
   "metadata": {},
   "outputs": [
    {
     "name": "stdout",
     "output_type": "stream",
     "text": [
      "k is : 1\n",
      "Scores per fold :\n",
      "[0.99988124 1.         0.99976247 0.99988124 1.         1.\n",
      " 0.99988124 0.99988124 0.99976244 1.        ]\n",
      "Average accuracy : 0.9999049853021627\n",
      "k is : 3\n",
      "Scores per fold :\n",
      "[1.         1.         0.99976247 0.99988124 1.         1.\n",
      " 0.99988124 0.99988124 0.99976244 1.        ]\n",
      "Average accuracy : 0.9999168617867232\n",
      "k is : 5\n",
      "Scores per fold :\n",
      "[1.         1.         0.99964371 0.99988124 1.         1.\n",
      " 0.99988124 0.99988124 0.99988122 1.        ]\n",
      "Average accuracy : 0.9999168631973996\n",
      "k is : 7\n",
      "Scores per fold :\n",
      "[1.         1.         0.99952494 0.99988124 1.         1.\n",
      " 0.99988124 0.99988124 0.99988122 1.        ]\n",
      "Average accuracy : 0.9999049867128391\n",
      "k is : 9\n",
      "Scores per fold :\n",
      "[1.         1.         0.99952494 0.99988124 1.         1.\n",
      " 0.99988124 0.99976247 0.99976244 0.99940611]\n",
      "Average accuracy : 0.9998218428568567\n",
      "k is : 11\n",
      "Scores per fold :\n",
      "[1.         1.         0.99940618 0.99988124 0.99988124 1.\n",
      " 1.         0.99988124 0.99976244 0.99928733]\n",
      "Average accuracy : 0.9998099649616197\n",
      "k is : 13\n",
      "Scores per fold :\n",
      "[0.99988124 1.         0.99940618 0.99988124 0.99976247 1.\n",
      " 0.99988124 0.99976247 0.99976244 0.99916855]\n",
      "Average accuracy : 0.9997505811281406\n",
      "k is : 15\n",
      "Scores per fold :\n",
      "[0.99988124 1.         0.99928741 0.99988124 0.99976247 1.\n",
      " 0.99988124 0.99976247 0.99976244 0.99916855]\n",
      "Average accuracy : 0.9997387046435801\n",
      "k is : 17\n",
      "Scores per fold :\n",
      "[0.99976247 1.         0.99916865 0.99988124 0.99976247 1.\n",
      " 0.99988124 0.99976247 0.99964366 0.99916855]\n",
      "Average accuracy : 0.9997030737792219\n",
      "k is : 20\n",
      "Scores per fold :\n",
      "[0.99976247 0.99988124 0.99904988 0.99976247 0.99964371 0.99988124\n",
      " 0.99988124 0.99964371 0.99952488 0.99916855]\n",
      "Average accuracy : 0.9996199369766214\n",
      "k is : 40\n",
      "Scores per fold :\n",
      "[0.99964371 1.         0.99916865 0.99964371 0.99976247 0.99976247\n",
      " 0.99976247 0.99976247 0.99964366 0.99904977]\n",
      "Average accuracy : 0.9996199369766214\n",
      "k is : 50\n",
      "Scores per fold :\n",
      "[0.99964371 1.         0.99916865 0.99976247 0.99976247 0.99976247\n",
      " 0.99976247 0.99976247 0.99952488 0.99904977]\n",
      "Average accuracy : 0.9996199355659451\n",
      "k is : 60\n",
      "Scores per fold :\n",
      "[0.99976247 1.         0.99916865 0.99988124 0.99976247 0.99988124\n",
      " 0.99988124 0.99964371 0.99964366 0.99916855]\n",
      "Average accuracy : 0.9996793208101007\n",
      "k is : 80\n",
      "Scores per fold :\n",
      "[0.99976247 0.99988124 0.99916865 0.99988124 0.99976247 0.99988124\n",
      " 0.99988124 0.99952494 0.99964366 0.99916855]\n",
      "Average accuracy : 0.9996555678409796\n",
      "k is : 100\n",
      "Scores per fold :\n",
      "[0.99976247 0.99988124 0.99916865 0.99988124 0.99976247 0.99988124\n",
      " 0.99988124 0.99940618 0.99964366 0.99916855]\n",
      "Average accuracy : 0.9996436913564191\n"
     ]
    }
   ],
   "source": [
    "X = np.concatenate((X_train,X_test),axis=0)\n",
    "y = np.concatenate((y_train,y_test),axis=0)\n",
    "for i in range(len(k_choices)):\n",
    "    print(\"k is : \" + str(k_choices[i]))\n",
    "    model = KNeighborsClassifier(n_neighbors=k_choices[i])\n",
    "    scores[i] = cross_val_score(model.fit(X_train, y_train), X, y, cv=k_folds)\n",
    "    print(\"Scores per fold :\\n\" + str(scores[i]))\n",
    "    print(\"Average accuracy : \" + str(np.sum(scores[i]) / len(scores[i])))"
   ]
  },
  {
   "cell_type": "code",
   "execution_count": null,
   "metadata": {},
   "outputs": [],
   "source": [
    "def plot_scatter(scores):\n",
    "    for i in range(len(scores)):\n",
    "        x = [k_choices[i]] * 10\n",
    "        plt.scatter(x, scores[i])\n",
    "\n",
    "plot_scatter(scores)"
   ]
  },
  {
   "cell_type": "code",
   "execution_count": null,
   "metadata": {},
   "outputs": [],
   "source": [
    "average_accuracy_mean = np.mean(scores,axis=1)\n",
    "avg_scores = average_accuracy_mean\n",
    "\n",
    "average_accuracy_std = np.std(scores, axis=1)\n",
    "stddev_scores = average_accuracy_std"
   ]
  },
  {
   "cell_type": "code",
   "execution_count": null,
   "metadata": {},
   "outputs": [],
   "source": [
    "plot_scatter(scores)\n",
    "\n",
    "plt.errorbar(k_choices, avg_scores, yerr=stddev_scores)\n",
    "plt.title('Cross-validation on k')\n",
    "plt.xlabel('k')\n",
    "plt.ylabel('Cross-validation accuracy')"
   ]
  },
  {
   "cell_type": "markdown",
   "metadata": {
    "id": "PEXLv1mlK2cq"
   },
   "source": [
    "**<h2> Hyperparameter Tuning**\n",
    "\n"
   ]
  },
  {
   "cell_type": "markdown",
   "metadata": {
    "id": "Qa-sWBzD-LKK"
   },
   "source": [
    "<h3> Binomial Logistic Regression"
   ]
  },
  {
   "cell_type": "code",
   "execution_count": null,
   "metadata": {},
   "outputs": [],
   "source": [
    "from sklearn.model_selection import GridSearchCV\n",
    "\n",
    "params = {\n",
    "    \"loss\" : [\"hinge\", \"log\", \"squared_hinge\", \"modified_huber\"],\n",
    "    \"eta0\" : [0.0001, 0.001, 0.01, 0.1],\n",
    "    \"learning_rate\" : [\"constant\", \"optimal\"],\n",
    "}\n",
    "\n",
    "model = SGDClassifier(max_iter=1000)\n",
    "clf = GridSearchCV(model, param_grid=params)"
   ]
  },
  {
   "cell_type": "code",
   "execution_count": null,
   "metadata": {},
   "outputs": [],
   "source": [
    "clf.fit(X_train, y_train)\n",
    "print(clf.best_score_)\n",
    "print(clf.best_estimator_)"
   ]
  },
  {
   "cell_type": "markdown",
   "metadata": {},
   "source": [
    "### Log Loss"
   ]
  },
  {
   "cell_type": "code",
   "execution_count": null,
   "metadata": {},
   "outputs": [],
   "source": [
    "logmodel = SGDClassifier(loss='log', eta0=0.01)"
   ]
  },
  {
   "cell_type": "code",
   "execution_count": null,
   "metadata": {},
   "outputs": [],
   "source": [
    "from sklearn.metrics import log_loss\n",
    "\n",
    "e = 0\n",
    "is_converged = False\n",
    "previous_loss = 0\n",
    "labels = np.unique(y_train)\n",
    "\n",
    "while e < max_epochs and is_converged is not True:\n",
    "    \n",
    "    loss=0\n",
    "    \n",
    "    X_batch,y_batch = data_loader.get_batch()\n",
    "    \n",
    "    for X,y in zip(X_batch,y_batch):\n",
    "        logreg.partial_fit(X,y,classes=labels)\n",
    "        y_pred = logreg.predict_proba(X_train)\n",
    "        loss += log_loss(y_train,y_pred)\n",
    "        \n",
    "    print('Epoch:', e + 1, '\\tLoss:', (loss / len(X_batch)))\n",
    "    \n",
    "    if abs(previous_loss - loss)<0.1:\n",
    "        is_converged = True\n",
    "    else:\n",
    "        previous_loss = loss\n",
    "        e +=1"
   ]
  },
  {
   "cell_type": "code",
   "execution_count": null,
   "metadata": {},
   "outputs": [],
   "source": [
    "predictions = logreg.predict(X_test)\n",
    "print(predictions)"
   ]
  },
  {
   "cell_type": "code",
   "execution_count": null,
   "metadata": {},
   "outputs": [],
   "source": [
    "num_correct = np.sum(predictions == y_test)\n",
    "print(num_correct, 'out of', len(y_test))"
   ]
  },
  {
   "cell_type": "code",
   "execution_count": null,
   "metadata": {},
   "outputs": [],
   "source": [
    "accuracy = num_correct / len(y_test) * 100\n",
    "print(accuracy, '%')"
   ]
  },
  {
   "cell_type": "code",
   "execution_count": null,
   "metadata": {
    "scrolled": false
   },
   "outputs": [],
   "source": [
    "print(classification_report(y_test, predictions))"
   ]
  },
  {
   "cell_type": "markdown",
   "metadata": {},
   "source": [
    "### Squared Hinge Loss"
   ]
  },
  {
   "cell_type": "code",
   "execution_count": null,
   "metadata": {},
   "outputs": [],
   "source": [
    "sqhinge = SGDClassifier(loss='squared_hinge', eta0=0.0001)"
   ]
  },
  {
   "cell_type": "code",
   "execution_count": null,
   "metadata": {},
   "outputs": [],
   "source": [
    "sqhinge.fit(X_train, y_train)"
   ]
  },
  {
   "cell_type": "code",
   "execution_count": null,
   "metadata": {},
   "outputs": [],
   "source": [
    "predictions = sqhinge.predict(X_test)\n",
    "print(predictions)"
   ]
  },
  {
   "cell_type": "code",
   "execution_count": null,
   "metadata": {},
   "outputs": [],
   "source": [
    "num_correct = np.sum(predictions == y_test)\n",
    "print(num_correct, 'out of', len(y_test))"
   ]
  },
  {
   "cell_type": "code",
   "execution_count": null,
   "metadata": {},
   "outputs": [],
   "source": [
    "accuracy = num_correct / len(y_test) * 100\n",
    "print(accuracy, '%')"
   ]
  },
  {
   "cell_type": "code",
   "execution_count": null,
   "metadata": {
    "scrolled": true
   },
   "outputs": [],
   "source": [
    "print(classification_report(y_test, predictions))"
   ]
  },
  {
   "cell_type": "markdown",
   "metadata": {},
   "source": [
    "<h3> k Nearest Neighbors"
   ]
  },
  {
   "cell_type": "markdown",
   "metadata": {},
   "source": [
    "As seen in the model training, KNN does not need a complex hyperparameter tuning since it already has a high accuracy score without it and KNN usually produces high accuracy with little to no hyperparameter tuning.\n",
    "\n",
    "KNN also only has one hyperparameter which is k. K is the number of nearest neighbors that the model will be taken into account when making a prediciton.\n",
    "\n",
    "Instead of hyperparameter tuning we instead used cross-validation. By using cross-validation, we can easily tune the hyperparameter k, and we will be able to see how different k values affect how well the model performs."
   ]
  },
  {
   "cell_type": "markdown",
   "metadata": {},
   "source": [
    "<h3> Gaussian Naive Bayes"
   ]
  },
  {
   "cell_type": "code",
   "execution_count": null,
   "metadata": {},
   "outputs": [],
   "source": [
    "from sklearn.model_selection import RepeatedStratifiedKFold, GridSearchCV\n",
    "\n",
    "cv_method = RepeatedStratifiedKFold(n_splits=5, \n",
    "                                    n_repeats=3, \n",
    "                                    random_state=999)"
   ]
  },
  {
   "cell_type": "code",
   "execution_count": null,
   "metadata": {},
   "outputs": [],
   "source": [
    "from sklearn.preprocessing import PowerTransformer\n",
    "params_NB = {'var_smoothing': np.logspace(0,-9, num=100)}\n",
    "\n",
    "gs_NB = GridSearchCV(estimator=gnb, \n",
    "                     param_grid=params_NB, \n",
    "                     cv=cv_method,\n",
    "                     verbose=1, \n",
    "                     scoring='accuracy')\n",
    "\n",
    "Data_transformed = PowerTransformer().fit_transform(X_test)\n",
    "\n",
    "gs_NB.fit(Data_transformed, y_test)"
   ]
  },
  {
   "cell_type": "code",
   "execution_count": null,
   "metadata": {},
   "outputs": [],
   "source": [
    "gs_NB.best_params_"
   ]
  },
  {
   "cell_type": "code",
   "execution_count": null,
   "metadata": {},
   "outputs": [],
   "source": [
    "gs_NB.best_score_"
   ]
  },
  {
   "cell_type": "code",
   "execution_count": null,
   "metadata": {},
   "outputs": [],
   "source": [
    "predict_test = gs_NB.predict(Data_transformed)\n",
    "\n",
    "num_correct = np.sum(predict_test == y_test)\n",
    "\n",
    "accuracy_test = num_correct / len(y_test) * 100\n",
    "print(accuracy_test, '%')"
   ]
  },
  {
   "cell_type": "markdown",
   "metadata": {
    "id": "d7CBq6vHK6nu"
   },
   "source": [
    "**<h2> Model Selection**"
   ]
  },
  {
   "cell_type": "markdown",
   "metadata": {},
   "source": [
    "The Binomial Logistic Regression model initially got an accuracy score of `92%`, but after tuning its hyperparameters we were able to achieve a `97%` accuracy score. We used `GridSearchCV` to test different parameters and discover the best performing one. After running this the optimal parameters discovered were a initial learning rate at `0.0001` and the loss function set to `squared hinge`.\n",
    "\n",
    "The Gaussian Naive Bayes model initially only scored `81%`. `GridSearchCV` was also used to discover the most optimal parameter while also using the Repeated Stratified K-Fold cross validator. The most optimal parameter discovered was when the `var_smoothing` was set to `0.0002310129700083158` which produced an `88%` accuracy score which is lower than the previous model discussed.\n",
    "\n",
    "Based on the results we gathered the KNN model would be the best fit for this dataset as it had the highest accuracy score with a score of `99%` without needing to perform hyperparameter tuning."
   ]
  },
  {
   "cell_type": "markdown",
   "metadata": {
    "id": "UfI6vGlaK9Yy"
   },
   "source": [
    "**<h2> Insights and Conclusion**"
   ]
  },
  {
   "cell_type": "markdown",
   "metadata": {},
   "source": [
    " "
   ]
  },
  {
   "cell_type": "markdown",
   "metadata": {
    "id": "XU8N85hNLEOV"
   },
   "source": [
    "**<h2> References**"
   ]
  },
  {
   "cell_type": "markdown",
   "metadata": {},
   "source": [
    "Brownlee, J. (2018). A Gentle Introduction to k-fold Cross-Validation - MachineLearningMastery.com. MachineLearningMastery.com. https://machinelearningmastery.com/k-fold-cross-validation/\n",
    "\n",
    "Allibhai, E. (2018). Building a k-Nearest-Neighbors (k-NN) Model with Scikit-learn. Medium; Towards Data Science. https://towardsdatascience.com/building-a-k-nearest-neighbors-k-nn-model-with-scikit-learn-51209555453a\n",
    "\n",
    "Rose, N. (2017). *SGDClassifier.* Kaggle. https://www.kaggle.com/code/nsrose7224/sgdclassifier/notebook\n",
    "\n",
    "Vardhan, V. (2022). *Smoke Detection Cross Model Validation.* Kaggle. \n",
    "https://www.kaggle.com/code/vishnuvardhan97/smoke-detection-cross-model-validation"
   ]
  },
  {
   "cell_type": "markdown",
   "metadata": {},
   "source": [
    " "
   ]
  }
 ],
 "metadata": {
  "accelerator": "GPU",
  "colab": {
   "provenance": []
  },
  "gpuClass": "standard",
  "kernelspec": {
   "display_name": "Python 3",
   "language": "python",
   "name": "python3"
  },
  "language_info": {
   "codemirror_mode": {
    "name": "ipython",
    "version": 3
   },
   "file_extension": ".py",
   "mimetype": "text/x-python",
   "name": "python",
   "nbconvert_exporter": "python",
   "pygments_lexer": "ipython3",
   "version": "3.8.8"
  },
  "vscode": {
   "interpreter": {
    "hash": "38cca0c38332a56087b24af0bc80247f4fced29cb4f7f437d91dc159adec9c4e"
   }
  }
 },
 "nbformat": 4,
 "nbformat_minor": 1
}
